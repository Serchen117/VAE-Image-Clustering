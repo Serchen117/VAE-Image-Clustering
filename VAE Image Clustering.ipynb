{
  "cells": [
    {
      "cell_type": "code",
      "execution_count": null,
      "metadata": {
        "colab": {
          "base_uri": "https://localhost:8080/"
        },
        "id": "P18GBhN3g9R4",
        "outputId": "6bf13aaa-dfab-4607-ddc7-1abed77f5c87"
      },
      "outputs": [
        {
          "name": "stdout",
          "output_type": "stream",
          "text": [
            "Collecting emnist\n",
            "  Downloading emnist-0.0-py3-none-any.whl (7.3 kB)\n",
            "Requirement already satisfied: numpy in /usr/local/lib/python3.10/dist-packages (from emnist) (1.22.4)\n",
            "Requirement already satisfied: requests in /usr/local/lib/python3.10/dist-packages (from emnist) (2.27.1)\n",
            "Requirement already satisfied: tqdm in /usr/local/lib/python3.10/dist-packages (from emnist) (4.65.0)\n",
            "Requirement already satisfied: urllib3<1.27,>=1.21.1 in /usr/local/lib/python3.10/dist-packages (from requests->emnist) (1.26.16)\n",
            "Requirement already satisfied: certifi>=2017.4.17 in /usr/local/lib/python3.10/dist-packages (from requests->emnist) (2023.7.22)\n",
            "Requirement already satisfied: charset-normalizer~=2.0.0 in /usr/local/lib/python3.10/dist-packages (from requests->emnist) (2.0.12)\n",
            "Requirement already satisfied: idna<4,>=2.5 in /usr/local/lib/python3.10/dist-packages (from requests->emnist) (3.4)\n",
            "Installing collected packages: emnist\n",
            "Successfully installed emnist-0.0\n"
          ]
        }
      ],
      "source": [
        "!pip install emnist"
      ]
    },
    {
      "cell_type": "code",
      "execution_count": null,
      "metadata": {
        "id": "TFLsRvblCZjK"
      },
      "outputs": [],
      "source": [
        "import numpy as np\n",
        "from keras.layers import *\n",
        "from keras.models import Model, load_model\n",
        "from keras import backend as K\n",
        "from keras import losses\n",
        "from keras.optimizers import SGD,Adam\n",
        "import imageio,os\n",
        "from PIL import Image\n",
        "from keras.callbacks import EarlyStopping, ReduceLROnPlateau, ModelCheckpoint\n",
        "from emnist import extract_training_samples, extract_test_samples\n",
        "from keras.regularizers import l1, l2"
      ]
    },
    {
      "cell_type": "code",
      "execution_count": null,
      "metadata": {
        "colab": {
          "base_uri": "https://localhost:8080/"
        },
        "id": "c2nkpbbsNus-",
        "outputId": "2b4eba5c-f35f-4d4b-dc8b-88d178e43976"
      },
      "outputs": [
        {
          "name": "stdout",
          "output_type": "stream",
          "text": [
            "Num GPUs Available:  1\n"
          ]
        }
      ],
      "source": [
        "import tensorflow as tf\n",
        "print(\"Num GPUs Available: \", len(tf.config.list_physical_devices('GPU')))"
      ]
    },
    {
      "cell_type": "code",
      "execution_count": null,
      "metadata": {
        "id": "QcPIbdEzCh-j"
      },
      "outputs": [],
      "source": [
        "batch_size = 100\n",
        "latent_dim = 20\n",
        "epochs = 100\n",
        "img_dim = 28\n",
        "filters = 16\n",
        "intermediate_dim = 256\n",
        "learning_rate = 0.005\n",
        "#momentum = 0.5\n",
        "#dataset = 'balanced'\n",
        "#dataset = 'letters'\n",
        "dataset = 'mnist'\n",
        "#dataset = 'fashion'"
      ]
    },
    {
      "cell_type": "code",
      "execution_count": null,
      "metadata": {
        "colab": {
          "base_uri": "https://localhost:8080/"
        },
        "id": "elGRbd7HJ5WZ",
        "outputId": "08f3799e-2292-4e8d-c2f3-b494346936e9"
      },
      "outputs": [
        {
          "name": "stdout",
          "output_type": "stream",
          "text": [
            "Downloading data from https://storage.googleapis.com/tensorflow/tf-keras-datasets/mnist.npz\n",
            "11490434/11490434 [==============================] - 0s 0us/step\n"
          ]
        }
      ],
      "source": [
        "if dataset == 'balanced':\n",
        "  num_classes = 47\n",
        "  x_train, y_train = extract_training_samples(dataset)\n",
        "  x_test, y_test = extract_test_samples(dataset)\n",
        "elif dataset == 'letters':\n",
        "  num_classes = 26\n",
        "  x_train, y_train = extract_training_samples(dataset)\n",
        "  x_test, y_test = extract_test_samples(dataset)\n",
        "elif dataset == 'mnist':\n",
        "  num_classes = 10\n",
        "  from keras.datasets import mnist\n",
        "  (x_train, y_train), (x_test, y_test) = mnist.load_data()\n",
        "elif dataset == 'fashion':\n",
        "  num_classes = 10\n",
        "  from keras.datasets import fashion_mnist as mnist\n",
        "  (x_train, y_train), (x_test, y_test) = mnist.load_data()"
      ]
    },
    {
      "cell_type": "code",
      "execution_count": null,
      "metadata": {
        "id": "ZfdCctD1CnLC"
      },
      "outputs": [],
      "source": [
        "x_train = x_train.astype('float32') / 255.\n",
        "x_test = x_test.astype('float32') / 255.\n",
        "x_train = x_train.reshape((-1, img_dim, img_dim, 1))\n",
        "x_test = x_test.reshape((-1, img_dim, img_dim, 1))"
      ]
    },
    {
      "cell_type": "code",
      "execution_count": null,
      "metadata": {
        "id": "xHUK8omNCwyf"
      },
      "outputs": [],
      "source": [
        "# # 搭建模型\n",
        "# x = Input(shape=(img_dim, img_dim, 1))\n",
        "# h = x\n",
        "# h = Flatten()(h)\n",
        "\n",
        "# # Add dense layers\n",
        "# for i in range(4):  # Increase the number of layers\n",
        "#     h = Dense(2 * intermediate_dim)(h)\n",
        "#     h = LeakyReLU(0.2)(h)\n",
        "#     h = BatchNormalization()(h)  # Add batch normalization\n",
        "\n",
        "# h_shape = K.int_shape(h)[1:]\n",
        "# z_mean = Dense(latent_dim)(h) # p(z|x)的均值\n",
        "# z_log_var = Dense(latent_dim)(h) # p(z|x)的方差\n",
        "\n",
        "# encoder = Model(x, z_mean) # 通常认为z_mean就是所需的隐变量编码\n",
        "\n",
        "# z = Input(shape=(latent_dim,))\n",
        "# h = z\n",
        "\n",
        "# 搭建模型\n",
        "x = Input(shape=(img_dim, img_dim, 1))\n",
        "h = x\n",
        "\n",
        "h = Conv2D(filters=filters, kernel_size=3, strides=2, padding='same')(h)\n",
        "h = LeakyReLU(0.2)(h)\n",
        "h = Conv2D(filters=filters, kernel_size=3, strides=1, padding='same')(h)\n",
        "h = LeakyReLU(0.2)(h)\n",
        "h = Conv2D(filters=filters*2, kernel_size=3, strides=2, padding='same')(h)\n",
        "h = LeakyReLU(0.2)(h)\n",
        "h = Conv2D(filters=filters*2, kernel_size=3, strides=1, padding='same')(h)\n",
        "h = LeakyReLU(0.2)(h)\n",
        "\n",
        "h_shape = K.int_shape(h)[1:]\n",
        "h = Flatten()(h)\n",
        "z_mean = Dense(latent_dim)(h) # p(z|x)的均值\n",
        "z_log_var = Dense(latent_dim)(h) # p(z|x)的方差\n",
        "\n",
        "encoder = Model(x, z_mean) # 通常认为z_mean就是所需的隐变量编码"
      ]
    },
    {
      "cell_type": "code",
      "execution_count": null,
      "metadata": {
        "id": "IKbp0XliCzGf"
      },
      "outputs": [],
      "source": [
        "# # Add dense layers\n",
        "# for i in range(4):  # Increase the number of layers\n",
        "#     h = Dense(2 * intermediate_dim)(h)\n",
        "#     h = LeakyReLU(0.2)(h)\n",
        "#     h = BatchNormalization()(h)  # Add batch normalization\n",
        "\n",
        "# h = Dense(img_dim * img_dim, activation='sigmoid')(h)\n",
        "# x_recon = Reshape((img_dim, img_dim, 1))(h)\n",
        "\n",
        "# decoder = Model(z, x_recon) # 解码器\n",
        "# generator = decoder\n",
        "z = Input(shape=(latent_dim,))\n",
        "h = z\n",
        "h = Dense(np.prod(h_shape))(h)\n",
        "h = Reshape(h_shape)(h)\n",
        "\n",
        "# Mirroring VGG-5 based encoder structure\n",
        "h = Conv2DTranspose(filters=filters*2, kernel_size=3, strides=1, padding='same')(h)\n",
        "h = LeakyReLU(0.2)(h)\n",
        "h = Conv2DTranspose(filters=filters*2, kernel_size=3, strides=2, padding='same')(h)\n",
        "h = LeakyReLU(0.2)(h)\n",
        "h = Conv2DTranspose(filters=filters, kernel_size=3, strides=1, padding='same')(h)\n",
        "h = LeakyReLU(0.2)(h)\n",
        "h = Conv2DTranspose(filters=filters, kernel_size=3, strides=2, padding='same')(h)\n",
        "h = LeakyReLU(0.2)(h)\n",
        "\n",
        "x_recon = Conv2DTranspose(filters=1,\n",
        "              kernel_size=3,\n",
        "              activation='sigmoid',\n",
        "              padding='same')(h)\n",
        "\n",
        "\n",
        "decoder = Model(z, x_recon) # 解码器\n",
        "generator = decoder"
      ]
    },
    {
      "cell_type": "code",
      "execution_count": null,
      "metadata": {
        "id": "B_lVYQoYC2-8"
      },
      "outputs": [],
      "source": [
        "z = Input(shape=(latent_dim,))\n",
        "y = Dense(intermediate_dim, activation='relu')(z)\n",
        "y = Dense(num_classes, activation='softmax')(y)\n",
        "\n",
        "classfier = Model(z, y) # 隐变量分类器"
      ]
    },
    {
      "cell_type": "code",
      "execution_count": null,
      "metadata": {
        "id": "PKWtq3gkDEZ9"
      },
      "outputs": [],
      "source": [
        "# 重参数技巧\n",
        "def sampling(args):\n",
        "    z_mean, z_log_var = args\n",
        "    epsilon = K.random_normal(shape=(K.shape(z_mean)[0], latent_dim))\n",
        "    return z_mean + K.exp(z_log_var / 2) * epsilon\n",
        "\n",
        "# 重参数层，相当于给输入加入噪声\n",
        "z = Lambda(sampling, output_shape=(latent_dim,))([z_mean, z_log_var])\n",
        "x_recon = decoder(z)\n",
        "y = classfier(z)"
      ]
    },
    {
      "cell_type": "code",
      "execution_count": null,
      "metadata": {
        "id": "GhhoOnvEDKRf"
      },
      "outputs": [],
      "source": [
        "class Gaussian(Layer):\n",
        "    \"\"\"这是个简单的层，定义q(z|y)中的均值参数，每个类别配一个均值。\n",
        "    然后输出“z - 均值”，为后面计算loss准备。\n",
        "    \"\"\"\n",
        "    def __init__(self, num_classes, **kwargs):\n",
        "        self.num_classes = num_classes\n",
        "        super(Gaussian, self).__init__(**kwargs)\n",
        "    def build(self, input_shape):\n",
        "        latent_dim = input_shape[-1]\n",
        "        self.mean = self.add_weight(name='mean',\n",
        "                       shape=(self.num_classes, latent_dim),\n",
        "                       initializer='zeros')\n",
        "    def call(self, inputs):\n",
        "        z = inputs # z.shape=(batch_size, latent_dim)\n",
        "        z = K.expand_dims(z, 1)\n",
        "        return z - K.expand_dims(self.mean, 0)\n",
        "    def compute_output_shape(self, input_shape):\n",
        "        return (None, self.num_classes, input_shape[-1])\n",
        "\n",
        "gaussian = Gaussian(num_classes)\n",
        "z_prior_mean = gaussian(z)"
      ]
    },
    {
      "cell_type": "code",
      "execution_count": null,
      "metadata": {
        "id": "4ADtK8HjDZCf"
      },
      "outputs": [],
      "source": [
        "# 建立模型\n",
        "vae = Model(x, [x_recon, z_prior_mean, y])"
      ]
    },
    {
      "cell_type": "code",
      "execution_count": null,
      "metadata": {
        "colab": {
          "base_uri": "https://localhost:8080/"
        },
        "id": "LAzxOHOxDaNp",
        "outputId": "2dc83ec1-b330-4b93-f22b-351812983054"
      },
      "outputs": [
        {
          "name": "stdout",
          "output_type": "stream",
          "text": [
            "Model: \"model_3\"\n",
            "__________________________________________________________________________________________________\n",
            " Layer (type)                   Output Shape         Param #     Connected to                     \n",
            "==================================================================================================\n",
            " input_1 (InputLayer)           [(None, 28, 28, 1)]  0           []                               \n",
            "                                                                                                  \n",
            " conv2d (Conv2D)                (None, 14, 14, 16)   160         ['input_1[0][0]']                \n",
            "                                                                                                  \n",
            " leaky_re_lu (LeakyReLU)        (None, 14, 14, 16)   0           ['conv2d[0][0]']                 \n",
            "                                                                                                  \n",
            " conv2d_1 (Conv2D)              (None, 14, 14, 16)   2320        ['leaky_re_lu[0][0]']            \n",
            "                                                                                                  \n",
            " leaky_re_lu_1 (LeakyReLU)      (None, 14, 14, 16)   0           ['conv2d_1[0][0]']               \n",
            "                                                                                                  \n",
            " conv2d_2 (Conv2D)              (None, 7, 7, 32)     4640        ['leaky_re_lu_1[0][0]']          \n",
            "                                                                                                  \n",
            " leaky_re_lu_2 (LeakyReLU)      (None, 7, 7, 32)     0           ['conv2d_2[0][0]']               \n",
            "                                                                                                  \n",
            " conv2d_3 (Conv2D)              (None, 7, 7, 32)     9248        ['leaky_re_lu_2[0][0]']          \n",
            "                                                                                                  \n",
            " leaky_re_lu_3 (LeakyReLU)      (None, 7, 7, 32)     0           ['conv2d_3[0][0]']               \n",
            "                                                                                                  \n",
            " flatten (Flatten)              (None, 1568)         0           ['leaky_re_lu_3[0][0]']          \n",
            "                                                                                                  \n",
            " dense (Dense)                  (None, 20)           31380       ['flatten[0][0]']                \n",
            "                                                                                                  \n",
            " dense_1 (Dense)                (None, 20)           31380       ['flatten[0][0]']                \n",
            "                                                                                                  \n",
            " lambda (Lambda)                (None, 20)           0           ['dense[0][0]',                  \n",
            "                                                                  'dense_1[0][0]']                \n",
            "                                                                                                  \n",
            " model_1 (Functional)           (None, 28, 28, 1)    58513       ['lambda[0][0]']                 \n",
            "                                                                                                  \n",
            " gaussian (Gaussian)            (None, 10, 20)       200         ['lambda[0][0]']                 \n",
            "                                                                                                  \n",
            " model_2 (Functional)           (None, 10)           7946        ['lambda[0][0]']                 \n",
            "                                                                                                  \n",
            " tf.math.subtract (TFOpLambda)  (None, 28, 28, 1)    0           ['input_1[0][0]',                \n",
            "                                                                  'model_1[0][0]']                \n",
            "                                                                                                  \n",
            " tf.expand_dims_1 (TFOpLambda)  (None, 1, 20)        0           ['dense_1[0][0]']                \n",
            "                                                                                                  \n",
            " tf.math.square (TFOpLambda)    (None, 10, 20)       0           ['gaussian[0][0]']               \n",
            "                                                                                                  \n",
            " tf.math.pow (TFOpLambda)       (None, 28, 28, 1)    0           ['tf.math.subtract[0][0]']       \n",
            "                                                                                                  \n",
            " tf.math.subtract_1 (TFOpLambda  (None, 10, 20)      0           ['tf.expand_dims_1[0][0]',       \n",
            " )                                                                'tf.math.square[0][0]']         \n",
            "                                                                                                  \n",
            " tf.math.reduce_mean (TFOpLambd  (28, 28, 1)         0           ['tf.math.pow[0][0]']            \n",
            " a)                                                                                               \n",
            "                                                                                                  \n",
            " tf.expand_dims_2 (TFOpLambda)  (None, 1, 10)        0           ['model_2[0][0]']                \n",
            "                                                                                                  \n",
            " tf.math.multiply_1 (TFOpLambda  (None, 10, 20)      0           ['tf.math.subtract_1[0][0]']     \n",
            " )                                                                                                \n",
            "                                                                                                  \n",
            " tf.__operators__.add (TFOpLamb  (None, 10)          0           ['model_2[0][0]']                \n",
            " da)                                                                                              \n",
            "                                                                                                  \n",
            " tf.math.multiply (TFOpLambda)  (28, 28, 1)          0           ['tf.math.reduce_mean[0][0]']    \n",
            "                                                                                                  \n",
            " tf.linalg.matmul (TFOpLambda)  (None, 1, 20)        0           ['tf.expand_dims_2[0][0]',       \n",
            "                                                                  'tf.math.multiply_1[0][0]']     \n",
            "                                                                                                  \n",
            " tf.math.log (TFOpLambda)       (None, 10)           0           ['tf.__operators__.add[0][0]']   \n",
            "                                                                                                  \n",
            " tf.math.reduce_sum (TFOpLambda  ()                  0           ['tf.math.multiply[0][0]']       \n",
            " )                                                                                                \n",
            "                                                                                                  \n",
            " tf.math.reduce_mean_1 (TFOpLam  (1, 20)             0           ['tf.linalg.matmul[0][0]']       \n",
            " bda)                                                                                             \n",
            "                                                                                                  \n",
            " tf.math.multiply_2 (TFOpLambda  (None, 10)          0           ['model_2[0][0]',                \n",
            " )                                                                'tf.math.log[0][0]']            \n",
            "                                                                                                  \n",
            " tf.math.multiply_3 (TFOpLambda  ()                  0           ['tf.math.reduce_sum[0][0]']     \n",
            " )                                                                                                \n",
            "                                                                                                  \n",
            " tf.math.reduce_sum_1 (TFOpLamb  ()                  0           ['tf.math.reduce_mean_1[0][0]']  \n",
            " da)                                                                                              \n",
            "                                                                                                  \n",
            " tf.math.reduce_mean_2 (TFOpLam  (10,)               0           ['tf.math.multiply_2[0][0]']     \n",
            " bda)                                                                                             \n",
            "                                                                                                  \n",
            " tf.__operators__.add_1 (TFOpLa  ()                  0           ['tf.math.multiply_3[0][0]',     \n",
            " mbda)                                                            'tf.math.reduce_sum_1[0][0]']   \n",
            "                                                                                                  \n",
            " tf.math.reduce_sum_2 (TFOpLamb  ()                  0           ['tf.math.reduce_mean_2[0][0]']  \n",
            " da)                                                                                              \n",
            "                                                                                                  \n",
            " tf.__operators__.add_2 (TFOpLa  ()                  0           ['tf.__operators__.add_1[0][0]', \n",
            " mbda)                                                            'tf.math.reduce_sum_2[0][0]']   \n",
            "                                                                                                  \n",
            " add_loss (AddLoss)             ()                   0           ['tf.__operators__.add_2[0][0]'] \n",
            "                                                                                                  \n",
            "==================================================================================================\n",
            "Total params: 145,787\n",
            "Trainable params: 145,787\n",
            "Non-trainable params: 0\n",
            "__________________________________________________________________________________________________\n"
          ]
        }
      ],
      "source": [
        "# 下面一大通都是为了定义loss\n",
        "z_mean = K.expand_dims(z_mean, 1)\n",
        "z_log_var = K.expand_dims(z_log_var, 1)\n",
        "\n",
        "lamb = 1 # 这是重构误差的权重，它的相反数就是重构方差，越大意味着方差越小。\n",
        "xent_loss = 0.5 * K.mean((x - x_recon)**2, 0) # 重构误差（Reconstruction Error）\n",
        "#xent_loss = losses.binary_crossentropy(x, x_recon)\n",
        "kl_loss = - 0.5 * (z_log_var - K.square(z_prior_mean))\n",
        "kl_loss = K.mean(K.batch_dot(K.expand_dims(y, 1), kl_loss), 0) # KL散度（KL Divergence）\n",
        "cat_loss = K.mean(y * K.log(y + K.epsilon()), 0) # 分类误差（Classification Error）\n",
        "vae_loss = lamb * K.sum(xent_loss) + K.sum(kl_loss) + K.sum(cat_loss) # 最后，这三部分的损失函数加权求和，得到总的损失函数，损失函数的值越小越好\n",
        "\n",
        "\n",
        "\n",
        "vae.add_loss(vae_loss)\n",
        "# optimizer = SGD(lr=learning_rate, momentum=momentum)\n",
        "#adam_optimizer = Adam(learning_rate=0.005)\n",
        "vae.compile(optimizer='adam') #Keras 的 Adam 优化器来训练模型\n",
        "vae.summary()"
      ]
    },
    {
      "cell_type": "code",
      "execution_count": null,
      "metadata": {
        "colab": {
          "base_uri": "https://localhost:8080/"
        },
        "id": "HVZMbuArKvFC",
        "outputId": "0ae4c87d-58e6-4846-ec04-e30f1b25ead9"
      },
      "outputs": [
        {
          "name": "stdout",
          "output_type": "stream",
          "text": [
            "vae_vgg5_mnist_sgd_lr_0.005_100.h5\n"
          ]
        }
      ],
      "source": [
        "file_name = 'vae_vgg5_' + dataset + '_sgd_lr_' + str(learning_rate) + '_' + str(epochs) +'.h5'\n",
        "print(file_name)"
      ]
    },
    {
      "cell_type": "code",
      "execution_count": null,
      "metadata": {
        "colab": {
          "base_uri": "https://localhost:8080/",
          "height": 1000
        },
        "id": "va8cIKj2Dg5d",
        "outputId": "7956a6b0-9f3f-4308-81bc-6804970b3368"
      },
      "outputs": [
        {
          "name": "stderr",
          "output_type": "stream",
          "text": [
            "WARNING:tensorflow:`period` argument is deprecated. Please use `save_freq` to specify the frequency in number of batches seen.\n"
          ]
        },
        {
          "name": "stdout",
          "output_type": "stream",
          "text": [
            "600/600 [==============================] - 20s 8ms/step - loss: 34.0653 - val_loss: 28.6129\n",
            "313/313 [==============================] - 1s 2ms/step\n",
            "313/313 [==============================] - 1s 2ms/step\n"
          ]
        },
        {
          "name": "stderr",
          "output_type": "stream",
          "text": [
            "WARNING:imageio:Lossy conversion from float64 to uint8. Range [0.0, 255.0]. Convert image to uint8 prior to saving to suppress this warning.\n",
            "WARNING:imageio:Lossy conversion from float64 to uint8. Range [0.0, 255.0]. Convert image to uint8 prior to saving to suppress this warning.\n",
            "WARNING:imageio:Lossy conversion from float64 to uint8. Range [0.0, 255.0]. Convert image to uint8 prior to saving to suppress this warning.\n",
            "WARNING:imageio:Lossy conversion from float64 to uint8. Range [0.0, 255.0]. Convert image to uint8 prior to saving to suppress this warning.\n",
            "WARNING:imageio:Lossy conversion from float64 to uint8. Range [0.0, 255.0]. Convert image to uint8 prior to saving to suppress this warning.\n"
          ]
        },
        {
          "data": {
            "image/png": "[encoded data removed]",
            "text/plain": [
              "<PIL.Image.Image image mode=L size=140x56>"
            ]
          },
          "metadata": {},
          "output_type": "display_data"
        },
        {
          "name": "stdout",
          "output_type": "stream",
          "text": [
            "600/600 [==============================] - 4s 7ms/step - loss: 28.2194 - val_loss: 27.6683\n",
            "600/600 [==============================] - 5s 8ms/step - loss: 27.6231 - val_loss: 27.2200\n",
            "600/600 [==============================] - 5s 8ms/step - loss: 27.2715 - val_loss: 27.1854\n",
            "600/600 [==============================] - 5s 8ms/step - loss: 27.0718 - val_loss: 26.9205\n",
            "600/600 [==============================] - 4s 7ms/step - loss: 26.9810 - val_loss: 26.8131\n",
            "600/600 [==============================] - 5s 8ms/step - loss: 26.8520 - val_loss: 26.7326\n",
            "600/600 [==============================] - 5s 8ms/step - loss: 26.7538 - val_loss: 26.6435\n",
            "600/600 [==============================] - 4s 7ms/step - loss: 26.7125 - val_loss: 26.4932\n",
            "600/600 [==============================] - 5s 8ms/step - loss: 26.5916 - val_loss: 26.4774\n",
            "600/600 [==============================] - 5s 8ms/step - loss: 26.5099 - val_loss: 26.3713\n",
            "313/313 [==============================] - 0s 1ms/step\n",
            "313/313 [==============================] - 1s 2ms/step\n"
          ]
        },
        {
          "name": "stderr",
          "output_type": "stream",
          "text": [
            "WARNING:imageio:Lossy conversion from float64 to uint8. Range [0.0, 255.0]. Convert image to uint8 prior to saving to suppress this warning.\n",
            "WARNING:imageio:Lossy conversion from float64 to uint8. Range [0.0, 255.0]. Convert image to uint8 prior to saving to suppress this warning.\n",
            "WARNING:imageio:Lossy conversion from float64 to uint8. Range [0.0, 255.0]. Convert image to uint8 prior to saving to suppress this warning.\n",
            "WARNING:imageio:Lossy conversion from float64 to uint8. Range [0.0, 255.0]. Convert image to uint8 prior to saving to suppress this warning.\n",
            "WARNING:imageio:Lossy conversion from float64 to uint8. Range [0.0, 255.0]. Convert image to uint8 prior to saving to suppress this warning.\n"
          ]
        },
        {
          "data": {
            "image/png": "[encoded data removed]",
            "text/plain": [
              "<PIL.Image.Image image mode=L size=140x56>"
            ]
          },
          "metadata": {},
          "output_type": "display_data"
        },
        {
          "name": "stdout",
          "output_type": "stream",
          "text": [
            "600/600 [==============================] - 5s 8ms/step - loss: 26.4302 - val_loss: 26.4678\n",
            "600/600 [==============================] - 4s 7ms/step - loss: 26.3640 - val_loss: 26.2182\n",
            "600/600 [==============================] - 5s 8ms/step - loss: 26.3202 - val_loss: 26.1791\n",
            "600/600 [==============================] - 4s 7ms/step - loss: 26.2666 - val_loss: 26.1777\n",
            "600/600 [==============================] - 5s 8ms/step - loss: 26.2106 - val_loss: 26.0569\n",
            "600/600 [==============================] - 5s 8ms/step - loss: 26.1858 - val_loss: 25.9698\n",
            "600/600 [==============================] - 5s 8ms/step - loss: 26.1498 - val_loss: 25.9296\n",
            "600/600 [==============================] - 5s 8ms/step - loss: 26.0901 - val_loss: 25.9846\n",
            "600/600 [==============================] - 5s 8ms/step - loss: 26.0830 - val_loss: 25.8765\n",
            "600/600 [==============================] - 5s 8ms/step - loss: 26.0443 - val_loss: 25.9425\n",
            "313/313 [==============================] - 0s 1ms/step\n",
            "313/313 [==============================] - 1s 2ms/step\n"
          ]
        },
        {
          "name": "stderr",
          "output_type": "stream",
          "text": [
            "WARNING:imageio:Lossy conversion from float64 to uint8. Range [0.0, 255.0]. Convert image to uint8 prior to saving to suppress this warning.\n",
            "WARNING:imageio:Lossy conversion from float64 to uint8. Range [0.0, 255.0]. Convert image to uint8 prior to saving to suppress this warning.\n",
            "WARNING:imageio:Lossy conversion from float64 to uint8. Range [0.0, 255.0]. Convert image to uint8 prior to saving to suppress this warning.\n",
            "WARNING:imageio:Lossy conversion from float64 to uint8. Range [0.0, 255.0]. Convert image to uint8 prior to saving to suppress this warning.\n",
            "WARNING:imageio:Lossy conversion from float64 to uint8. Range [0.0, 255.0]. Convert image to uint8 prior to saving to suppress this warning.\n"
          ]
        },
        {
          "data": {
            "image/png": "[encoded data removed]",
            "text/plain": [
              "<PIL.Image.Image image mode=L size=140x56>"
            ]
          },
          "metadata": {},
          "output_type": "display_data"
        },
        {
          "name": "stdout",
          "output_type": "stream",
          "text": [
            "600/600 [==============================] - 5s 8ms/step - loss: 26.0068 - val_loss: 25.8617\n",
            "600/600 [==============================] - 5s 8ms/step - loss: 25.9891 - val_loss: 25.9674\n",
            "600/600 [==============================] - 5s 8ms/step - loss: 25.9458 - val_loss: 25.8540\n",
            "600/600 [==============================] - 5s 8ms/step - loss: 25.9241 - val_loss: 25.8001\n",
            "600/600 [==============================] - 5s 8ms/step - loss: 25.8827 - val_loss: 25.7947\n",
            "600/600 [==============================] - 5s 8ms/step - loss: 25.8885 - val_loss: 25.8713\n",
            "600/600 [==============================] - 5s 8ms/step - loss: 25.8549 - val_loss: 25.7641\n",
            "600/600 [==============================] - 5s 8ms/step - loss: 25.8492 - val_loss: 25.7416\n",
            "600/600 [==============================] - 5s 8ms/step - loss: 25.8435 - val_loss: 25.7428\n",
            "600/600 [==============================] - 5s 8ms/step - loss: 25.7828 - val_loss: 25.6837\n",
            "313/313 [==============================] - 0s 1ms/step\n",
            "313/313 [==============================] - 1s 2ms/step\n"
          ]
        },
        {
          "name": "stderr",
          "output_type": "stream",
          "text": [
            "WARNING:imageio:Lossy conversion from float64 to uint8. Range [0.0, 255.0]. Convert image to uint8 prior to saving to suppress this warning.\n",
            "WARNING:imageio:Lossy conversion from float64 to uint8. Range [0.0, 255.0]. Convert image to uint8 prior to saving to suppress this warning.\n",
            "WARNING:imageio:Lossy conversion from float64 to uint8. Range [0.0, 255.0]. Convert image to uint8 prior to saving to suppress this warning.\n",
            "WARNING:imageio:Lossy conversion from float64 to uint8. Range [0.0, 255.0]. Convert image to uint8 prior to saving to suppress this warning.\n",
            "WARNING:imageio:Lossy conversion from float64 to uint8. Range [0.0, 255.0]. Convert image to uint8 prior to saving to suppress this warning.\n"
          ]
        },
        {
          "data": {
            "image/png": "[encoded data removed]",
            "text/plain": [
              "<PIL.Image.Image image mode=L size=140x56>"
            ]
          },
          "metadata": {},
          "output_type": "display_data"
        },
        {
          "name": "stdout",
          "output_type": "stream",
          "text": [
            "600/600 [==============================] - 5s 8ms/step - loss: 25.7862 - val_loss: 25.7768\n",
            "600/600 [==============================] - 4s 7ms/step - loss: 25.7807 - val_loss: 25.7638\n",
            "600/600 [==============================] - 5s 8ms/step - loss: 25.7616 - val_loss: 25.6909\n",
            "600/600 [==============================] - 5s 8ms/step - loss: 25.7480 - val_loss: 25.6610\n",
            "600/600 [==============================] - 5s 8ms/step - loss: 25.7420 - val_loss: 25.7017\n",
            "600/600 [==============================] - 5s 8ms/step - loss: 25.7222 - val_loss: 25.8053\n",
            "600/600 [==============================] - 4s 7ms/step - loss: 25.7638 - val_loss: 25.5926\n",
            "600/600 [==============================] - 5s 8ms/step - loss: 25.7277 - val_loss: 25.6670\n",
            "600/600 [==============================] - 4s 7ms/step - loss: 25.7235 - val_loss: 25.7318\n",
            "600/600 [==============================] - 5s 8ms/step - loss: 25.7055 - val_loss: 25.6893\n",
            "313/313 [==============================] - 1s 2ms/step\n",
            "313/313 [==============================] - 1s 2ms/step\n"
          ]
        },
        {
          "name": "stderr",
          "output_type": "stream",
          "text": [
            "WARNING:imageio:Lossy conversion from float64 to uint8. Range [0.0, 255.0]. Convert image to uint8 prior to saving to suppress this warning.\n",
            "WARNING:imageio:Lossy conversion from float64 to uint8. Range [0.0, 255.0]. Convert image to uint8 prior to saving to suppress this warning.\n",
            "WARNING:imageio:Lossy conversion from float64 to uint8. Range [0.0, 255.0]. Convert image to uint8 prior to saving to suppress this warning.\n",
            "WARNING:imageio:Lossy conversion from float64 to uint8. Range [0.0, 255.0]. Convert image to uint8 prior to saving to suppress this warning.\n",
            "WARNING:imageio:Lossy conversion from float64 to uint8. Range [0.0, 255.0]. Convert image to uint8 prior to saving to suppress this warning.\n"
          ]
        },
        {
          "data": {
            "image/png": "[encoded data removed]",
            "text/plain": [
              "<PIL.Image.Image image mode=L size=140x56>"
            ]
          },
          "metadata": {},
          "output_type": "display_data"
        },
        {
          "name": "stdout",
          "output_type": "stream",
          "text": [
            "600/600 [==============================] - 4s 7ms/step - loss: 25.6783 - val_loss: 25.5859\n",
            "600/600 [==============================] - 5s 8ms/step - loss: 25.6755 - val_loss: 25.6385\n",
            "600/600 [==============================] - 5s 8ms/step - loss: 25.6775 - val_loss: 25.6075\n",
            "600/600 [==============================] - 4s 7ms/step - loss: 25.6654 - val_loss: 25.6015\n",
            "600/600 [==============================] - 5s 8ms/step - loss: 25.6538 - val_loss: 25.5447\n",
            "600/600 [==============================] - 4s 7ms/step - loss: 25.6521 - val_loss: 25.5368\n",
            "600/600 [==============================] - 5s 8ms/step - loss: 25.6538 - val_loss: 25.6273\n",
            "600/600 [==============================] - 4s 7ms/step - loss: 25.6198 - val_loss: 25.5063\n",
            "600/600 [==============================] - 5s 8ms/step - loss: 25.5944 - val_loss: 25.4795\n",
            "600/600 [==============================] - 5s 8ms/step - loss: 25.6137 - val_loss: 25.5201\n",
            "313/313 [==============================] - 0s 1ms/step\n",
            "313/313 [==============================] - 1s 2ms/step\n"
          ]
        },
        {
          "name": "stderr",
          "output_type": "stream",
          "text": [
            "WARNING:imageio:Lossy conversion from float64 to uint8. Range [0.0, 255.0]. Convert image to uint8 prior to saving to suppress this warning.\n",
            "WARNING:imageio:Lossy conversion from float64 to uint8. Range [0.0, 255.0]. Convert image to uint8 prior to saving to suppress this warning.\n",
            "WARNING:imageio:Lossy conversion from float64 to uint8. Range [0.0, 255.0]. Convert image to uint8 prior to saving to suppress this warning.\n",
            "WARNING:imageio:Lossy conversion from float64 to uint8. Range [0.0, 255.0]. Convert image to uint8 prior to saving to suppress this warning.\n",
            "WARNING:imageio:Lossy conversion from float64 to uint8. Range [0.0, 255.0]. Convert image to uint8 prior to saving to suppress this warning.\n"
          ]
        },
        {
          "data": {
            "image/png": "[encoded data removed]",
            "text/plain": [
              "<PIL.Image.Image image mode=L size=140x56>"
            ]
          },
          "metadata": {},
          "output_type": "display_data"
        },
        {
          "name": "stdout",
          "output_type": "stream",
          "text": [
            "600/600 [==============================] - 5s 8ms/step - loss: 25.6279 - val_loss: 25.5810\n",
            "600/600 [==============================] - 5s 8ms/step - loss: 25.6028 - val_loss: 25.5117\n",
            "600/600 [==============================] - 5s 8ms/step - loss: 25.6169 - val_loss: 25.4410\n",
            "600/600 [==============================] - 5s 8ms/step - loss: 25.6019 - val_loss: 25.4671\n",
            "600/600 [==============================] - 5s 8ms/step - loss: 25.5938 - val_loss: 25.5752\n",
            "600/600 [==============================] - 5s 8ms/step - loss: 25.5636 - val_loss: 25.5570\n",
            "600/600 [==============================] - 4s 7ms/step - loss: 25.5850 - val_loss: 25.4598\n",
            "600/600 [==============================] - 5s 8ms/step - loss: 25.5910 - val_loss: 25.5346\n",
            "600/600 [==============================] - 5s 8ms/step - loss: 25.5738 - val_loss: 25.5045\n",
            "600/600 [==============================] - 4s 7ms/step - loss: 25.5895 - val_loss: 25.5420\n",
            "313/313 [==============================] - 0s 1ms/step\n",
            "313/313 [==============================] - 1s 2ms/step\n"
          ]
        },
        {
          "name": "stderr",
          "output_type": "stream",
          "text": [
            "WARNING:imageio:Lossy conversion from float64 to uint8. Range [0.0, 255.0]. Convert image to uint8 prior to saving to suppress this warning.\n",
            "WARNING:imageio:Lossy conversion from float64 to uint8. Range [0.0, 255.0]. Convert image to uint8 prior to saving to suppress this warning.\n",
            "WARNING:imageio:Lossy conversion from float64 to uint8. Range [0.0, 255.0]. Convert image to uint8 prior to saving to suppress this warning.\n",
            "WARNING:imageio:Lossy conversion from float64 to uint8. Range [0.0, 255.0]. Convert image to uint8 prior to saving to suppress this warning.\n",
            "WARNING:imageio:Lossy conversion from float64 to uint8. Range [0.0, 255.0]. Convert image to uint8 prior to saving to suppress this warning.\n"
          ]
        },
        {
          "data": {
            "image/png": "[encoded data removed]",
            "text/plain": [
              "<PIL.Image.Image image mode=L size=140x56>"
            ]
          },
          "metadata": {},
          "output_type": "display_data"
        },
        {
          "name": "stdout",
          "output_type": "stream",
          "text": [
            "600/600 [==============================] - 4s 7ms/step - loss: 25.5681 - val_loss: 25.5020\n",
            "600/600 [==============================] - 4s 7ms/step - loss: 25.5583 - val_loss: 25.4577\n",
            "600/600 [==============================] - 5s 8ms/step - loss: 25.5547 - val_loss: 25.5424\n",
            "600/600 [==============================] - 4s 7ms/step - loss: 25.5595 - val_loss: 25.5182\n",
            "600/600 [==============================] - 5s 8ms/step - loss: 25.5630 - val_loss: 25.5159\n",
            "600/600 [==============================] - 5s 8ms/step - loss: 25.5490 - val_loss: 25.4786\n",
            "600/600 [==============================] - 4s 7ms/step - loss: 25.5318 - val_loss: 25.4888\n",
            "600/600 [==============================] - 5s 8ms/step - loss: 25.5331 - val_loss: 25.4234\n",
            "600/600 [==============================] - 4s 7ms/step - loss: 25.5304 - val_loss: 25.5638\n",
            "600/600 [==============================] - 5s 8ms/step - loss: 25.5235 - val_loss: 25.4534\n",
            "313/313 [==============================] - 0s 1ms/step\n",
            "313/313 [==============================] - 1s 2ms/step\n"
          ]
        },
        {
          "name": "stderr",
          "output_type": "stream",
          "text": [
            "WARNING:imageio:Lossy conversion from float64 to uint8. Range [0.0, 255.0]. Convert image to uint8 prior to saving to suppress this warning.\n",
            "WARNING:imageio:Lossy conversion from float64 to uint8. Range [0.0, 255.0]. Convert image to uint8 prior to saving to suppress this warning.\n",
            "WARNING:imageio:Lossy conversion from float64 to uint8. Range [0.0, 255.0]. Convert image to uint8 prior to saving to suppress this warning.\n",
            "WARNING:imageio:Lossy conversion from float64 to uint8. Range [0.0, 255.0]. Convert image to uint8 prior to saving to suppress this warning.\n",
            "WARNING:imageio:Lossy conversion from float64 to uint8. Range [0.0, 255.0]. Convert image to uint8 prior to saving to suppress this warning.\n"
          ]
        },
        {
          "data": {
            "image/png": "[encoded data removed]",
            "text/plain": [
              "<PIL.Image.Image image mode=L size=140x56>"
            ]
          },
          "metadata": {},
          "output_type": "display_data"
        },
        {
          "name": "stdout",
          "output_type": "stream",
          "text": [
            "600/600 [==============================] - 5s 8ms/step - loss: 25.5020 - val_loss: 25.4983\n",
            "600/600 [==============================] - 5s 8ms/step - loss: 25.4949 - val_loss: 25.4527\n",
            "600/600 [==============================] - 4s 7ms/step - loss: 25.5163 - val_loss: 25.4476\n",
            "600/600 [==============================] - 5s 8ms/step - loss: 25.5125 - val_loss: 25.4075\n",
            "600/600 [==============================] - 5s 8ms/step - loss: 25.5313 - val_loss: 25.4650\n",
            "600/600 [==============================] - 4s 7ms/step - loss: 25.4702 - val_loss: 25.4351\n",
            "600/600 [==============================] - 5s 8ms/step - loss: 25.5120 - val_loss: 25.5053\n",
            "600/600 [==============================] - 5s 8ms/step - loss: 25.4835 - val_loss: 25.3138\n",
            "600/600 [==============================] - 5s 8ms/step - loss: 25.4663 - val_loss: 25.4218\n",
            "600/600 [==============================] - 4s 7ms/step - loss: 25.4731 - val_loss: 25.4613\n",
            "313/313 [==============================] - 0s 1ms/step\n",
            "313/313 [==============================] - 1s 2ms/step\n"
          ]
        },
        {
          "name": "stderr",
          "output_type": "stream",
          "text": [
            "WARNING:imageio:Lossy conversion from float64 to uint8. Range [0.0, 255.0]. Convert image to uint8 prior to saving to suppress this warning.\n",
            "WARNING:imageio:Lossy conversion from float64 to uint8. Range [0.0, 255.0]. Convert image to uint8 prior to saving to suppress this warning.\n",
            "WARNING:imageio:Lossy conversion from float64 to uint8. Range [0.0, 255.0]. Convert image to uint8 prior to saving to suppress this warning.\n",
            "WARNING:imageio:Lossy conversion from float64 to uint8. Range [0.0, 255.0]. Convert image to uint8 prior to saving to suppress this warning.\n",
            "WARNING:imageio:Lossy conversion from float64 to uint8. Range [0.0, 255.0]. Convert image to uint8 prior to saving to suppress this warning.\n"
          ]
        },
        {
          "data": {
            "image/png": "[encoded data removed]",
            "text/plain": [
              "<PIL.Image.Image image mode=L size=140x56>"
            ]
          },
          "metadata": {},
          "output_type": "display_data"
        },
        {
          "name": "stdout",
          "output_type": "stream",
          "text": [
            "600/600 [==============================] - 5s 8ms/step - loss: 25.4788 - val_loss: 25.4438\n",
            "600/600 [==============================] - 4s 7ms/step - loss: 25.4561 - val_loss: 25.5008\n",
            "600/600 [==============================] - 5s 8ms/step - loss: 25.5070 - val_loss: 25.4356\n",
            "600/600 [==============================] - 4s 7ms/step - loss: 25.4648 - val_loss: 25.4092\n",
            "600/600 [==============================] - 4s 7ms/step - loss: 25.4730 - val_loss: 25.3614\n",
            "600/600 [==============================] - 5s 8ms/step - loss: 25.4800 - val_loss: 25.4281\n",
            "600/600 [==============================] - 4s 7ms/step - loss: 25.4777 - val_loss: 25.3713\n",
            "600/600 [==============================] - 5s 8ms/step - loss: 25.4664 - val_loss: 25.4390\n",
            "600/600 [==============================] - 4s 7ms/step - loss: 25.4469 - val_loss: 25.3846\n",
            "600/600 [==============================] - 5s 8ms/step - loss: 25.4613 - val_loss: 25.4034\n",
            "313/313 [==============================] - 0s 1ms/step\n",
            "313/313 [==============================] - 1s 2ms/step\n"
          ]
        },
        {
          "name": "stderr",
          "output_type": "stream",
          "text": [
            "WARNING:imageio:Lossy conversion from float64 to uint8. Range [0.0, 255.0]. Convert image to uint8 prior to saving to suppress this warning.\n",
            "WARNING:imageio:Lossy conversion from float64 to uint8. Range [0.0, 255.0]. Convert image to uint8 prior to saving to suppress this warning.\n",
            "WARNING:imageio:Lossy conversion from float64 to uint8. Range [0.0, 255.0]. Convert image to uint8 prior to saving to suppress this warning.\n",
            "WARNING:imageio:Lossy conversion from float64 to uint8. Range [0.0, 255.0]. Convert image to uint8 prior to saving to suppress this warning.\n",
            "WARNING:imageio:Lossy conversion from float64 to uint8. Range [0.0, 255.0]. Convert image to uint8 prior to saving to suppress this warning.\n"
          ]
        },
        {
          "data": {
            "image/png": "[encoded data removed]",
            "text/plain": [
              "<PIL.Image.Image image mode=L size=140x56>"
            ]
          },
          "metadata": {},
          "output_type": "display_data"
        },
        {
          "name": "stdout",
          "output_type": "stream",
          "text": [
            "600/600 [==============================] - 5s 8ms/step - loss: 25.4656 - val_loss: 25.4917\n",
            "600/600 [==============================] - 5s 8ms/step - loss: 25.4793 - val_loss: 25.4876\n",
            "600/600 [==============================] - 4s 7ms/step - loss: 25.4707 - val_loss: 25.4534\n",
            "600/600 [==============================] - 4s 7ms/step - loss: 25.4677 - val_loss: 25.4349\n",
            "600/600 [==============================] - 5s 8ms/step - loss: 25.4675 - val_loss: 25.4835\n",
            "600/600 [==============================] - 4s 7ms/step - loss: 25.4534 - val_loss: 25.3877\n",
            "600/600 [==============================] - 5s 8ms/step - loss: 25.4387 - val_loss: 25.3745\n",
            "600/600 [==============================] - 5s 8ms/step - loss: 25.4654 - val_loss: 25.3943\n",
            "600/600 [==============================] - 5s 8ms/step - loss: 25.4634 - val_loss: 25.3975\n"
          ]
        }
      ],
      "source": [
        "if not os.path.exists('compare'):\n",
        "    os.mkdir('compare')\n",
        "\n",
        "early_stopping = EarlyStopping(monitor='val_loss', patience=10, verbose=1)\n",
        "reduce_lr = ReduceLROnPlateau(monitor='val_loss', factor=0.5, patience=5, verbose=1, min_lr=1e-6)\n",
        "checkpoint_callback = ModelCheckpoint(\n",
        "    filepath = file_name,  # 模型保存路径\n",
        "    save_freq='epoch',  # 保存频率为每个epoch\n",
        "    period=10  # 每隔10个epoch保存一次模型\n",
        ")\n",
        "\n",
        "callbacks = [early_stopping, reduce_lr]\n",
        "\n",
        "\n",
        "for i in range(epochs):\n",
        "  vae.fit(x_train,\n",
        "      shuffle=True,\n",
        "      epochs=1,\n",
        "      batch_size=batch_size,\n",
        "      validation_data=(x_test, None))\n",
        "      #callbacks=callbacks)\n",
        "\n",
        "  if i % 10 == 0:\n",
        "        x_test_encoded = encoder.predict(x_test)\n",
        "        recon = generator.predict(x_test_encoded)\n",
        "        n = 5  # change this line to adjust the number of images\n",
        "        fig = np.zeros((img_dim * 2, img_dim * n))\n",
        "        for m in range(15, 20):  # change this line\n",
        "            x_test_origin = x_test[m].reshape((img_dim, img_dim))\n",
        "            fig[0 * img_dim: (0 + 1) * img_dim,\n",
        "                (m - 15) * img_dim: ((m - 15) + 1) * img_dim] = x_test_origin  # change this line\n",
        "\n",
        "            x_test_generate = recon[m].reshape((img_dim, img_dim))\n",
        "            fig[1 * img_dim: (1 + 1) * img_dim,\n",
        "                (m - 15) * img_dim: ((m - 15) + 1) * img_dim] = x_test_generate  # change this line\n",
        "\n",
        "            fit_path = './compare/epoch' + str(i) + '_compare.png'\n",
        "            imageio.imwrite(fit_path, fig * 255)\n",
        "\n",
        "        # 将numpy数组转换为PIL Image对象\n",
        "        fig_pil = Image.fromarray((fig * 255).astype(np.uint8))\n",
        "\n",
        "        # 显示图像\n",
        "        display(fig_pil)\n",
        "\n",
        "# 将模型保存到文件\n",
        "vae.save(file_name)"
      ]
    },
    {
      "cell_type": "code",
      "execution_count": null,
      "metadata": {
        "colab": {
          "base_uri": "https://localhost:8080/"
        },
        "id": "LLLpq11HDlcw",
        "outputId": "1e78047f-b650-488b-b8ff-42cb178bb23a"
      },
      "outputs": [
        {
          "name": "stdout",
          "output_type": "stream",
          "text": [
            "1875/1875 [==============================] - 3s 2ms/step\n",
            "1875/1875 [==============================] - 2s 1ms/step\n",
            "313/313 [==============================] - 0s 2ms/step\n",
            "313/313 [==============================] - 0s 1ms/step\n"
          ]
        }
      ],
      "source": [
        "means = K.eval(gaussian.mean)\n",
        "x_train_encoded = encoder.predict(x_train)\n",
        "y_train_pred = classfier.predict(x_train_encoded).argmax(axis=1)\n",
        "x_test_encoded = encoder.predict(x_test)\n",
        "y_test_pred = classfier.predict(x_test_encoded).argmax(axis=1)"
      ]
    },
    {
      "cell_type": "code",
      "execution_count": null,
      "metadata": {
        "id": "7_e5Q99_DvBm"
      },
      "outputs": [],
      "source": [
        "def cluster_sample(path, category=0):\n",
        "    \"\"\"观察被模型聚为同一类的样本\n",
        "    \"\"\"\n",
        "    n = 8\n",
        "    figure = np.zeros((img_dim * n, img_dim * n))\n",
        "    idxs = np.where(y_train_pred == category)[0]\n",
        "    for i in range(n):\n",
        "        for j in range(n):\n",
        "            digit = x_train[np.random.choice(idxs)]\n",
        "            digit = digit.reshape((img_dim, img_dim))\n",
        "            figure[i * img_dim: (i + 1) * img_dim,\n",
        "            j * img_dim: (j + 1) * img_dim] = digit\n",
        "    imageio.imwrite(path, figure * 255)"
      ]
    },
    {
      "cell_type": "code",
      "execution_count": null,
      "metadata": {
        "id": "FwAm5JLpDwty"
      },
      "outputs": [],
      "source": [
        "def random_sample(path, category=0, std=1):\n",
        "    \"\"\"按照聚类结果进行条件随机生成\n",
        "    \"\"\"\n",
        "    n = 8\n",
        "    figure = np.zeros((img_dim * n, img_dim * n))\n",
        "    for i in range(n):\n",
        "        for j in range(n):\n",
        "            noise_shape = (1, latent_dim)\n",
        "            z_sample = np.array(np.random.randn(*noise_shape)) * std + means[category]\n",
        "            x_recon = generator.predict(z_sample)\n",
        "            digit = x_recon[0].reshape((img_dim, img_dim))\n",
        "            figure[i * img_dim: (i + 1) * img_dim,\n",
        "            j * img_dim: (j + 1) * img_dim] = digit\n",
        "    imageio.imwrite(path, figure * 255)"
      ]
    },
    {
      "cell_type": "code",
      "execution_count": 22,
      "metadata": {
        "colab": {
          "base_uri": "https://localhost:8080/"
        },
        "id": "yc-x9znHD3W_",
        "outputId": "72f4b9f0-a75d-430d-a26e-9a9e14816ef7"
      },
      "outputs": [
        {
          "metadata": {
            "tags": null
          },
          "name": "stderr",
          "output_type": "stream",
          "text": [
            "WARNING:imageio:Lossy conversion from float64 to uint8. Range [0.0, 255.0]. Convert image to uint8 prior to saving to suppress this warning.\n"
          ]
        },
        {
          "metadata": {
            "tags": null
          },
          "name": "stdout",
          "output_type": "stream",
          "text": [
            "1/1 [==============================] - 0s 26ms/step\n",
            "1/1 [==============================] - 0s 21ms/step\n",
            "1/1 [==============================] - 0s 26ms/step\n",
            "1/1 [==============================] - 0s 30ms/step\n",
            "1/1 [==============================] - 0s 19ms/step\n",
            "1/1 [==============================] - 0s 25ms/step\n",
            "1/1 [==============================] - 0s 29ms/step\n",
            "1/1 [==============================] - 0s 21ms/step\n",
            "1/1 [==============================] - 0s 27ms/step\n",
            "1/1 [==============================] - 0s 24ms/step\n",
            "1/1 [==============================] - 0s 20ms/step\n",
            "1/1 [==============================] - 0s 28ms/step\n",
            "1/1 [==============================] - 0s 26ms/step\n",
            "1/1 [==============================] - 0s 19ms/step\n",
            "1/1 [==============================] - 0s 25ms/step\n",
            "1/1 [==============================] - 0s 32ms/step\n",
            "1/1 [==============================] - 0s 41ms/step\n",
            "1/1 [==============================] - 0s 31ms/step\n",
            "1/1 [==============================] - 0s 32ms/step\n",
            "1/1 [==============================] - 0s 23ms/step\n",
            "1/1 [==============================] - 0s 28ms/step\n",
            "1/1 [==============================] - 0s 31ms/step\n",
            "1/1 [==============================] - 0s 30ms/step\n",
            "1/1 [==============================] - 0s 61ms/step\n",
            "1/1 [==============================] - 0s 27ms/step\n",
            "1/1 [==============================] - 0s 29ms/step\n",
            "1/1 [==============================] - 0s 23ms/step\n",
            "1/1 [==============================] - 0s 25ms/step\n",
            "1/1 [==============================] - 0s 23ms/step\n",
            "1/1 [==============================] - 0s 20ms/step\n",
            "1/1 [==============================] - 0s 29ms/step\n",
            "1/1 [==============================] - 0s 27ms/step\n",
            "1/1 [==============================] - 0s 39ms/step\n",
            "1/1 [==============================] - 0s 32ms/step\n",
            "1/1 [==============================] - 0s 29ms/step\n",
            "1/1 [==============================] - 0s 28ms/step\n",
            "1/1 [==============================] - 0s 27ms/step\n",
            "1/1 [==============================] - 0s 24ms/step\n",
            "1/1 [==============================] - 0s 29ms/step\n",
            "1/1 [==============================] - 0s 36ms/step\n",
            "1/1 [==============================] - 0s 33ms/step\n",
            "1/1 [==============================] - 0s 38ms/step\n",
            "1/1 [==============================] - 0s 30ms/step\n",
            "1/1 [==============================] - 0s 29ms/step\n",
            "1/1 [==============================] - 0s 30ms/step\n",
            "1/1 [==============================] - 0s 37ms/step\n",
            "1/1 [==============================] - 0s 31ms/step\n",
            "1/1 [==============================] - 0s 42ms/step\n",
            "1/1 [==============================] - 0s 32ms/step\n",
            "1/1 [==============================] - 0s 27ms/step\n",
            "1/1 [==============================] - 0s 26ms/step\n",
            "1/1 [==============================] - 0s 28ms/step\n",
            "1/1 [==============================] - 0s 23ms/step\n",
            "1/1 [==============================] - 0s 32ms/step\n",
            "1/1 [==============================] - 0s 29ms/step\n",
            "1/1 [==============================] - 0s 34ms/step\n",
            "1/1 [==============================] - 0s 27ms/step\n",
            "1/1 [==============================] - 0s 22ms/step\n",
            "1/1 [==============================] - 0s 22ms/step\n",
            "1/1 [==============================] - 0s 24ms/step\n",
            "1/1 [==============================] - 0s 20ms/step\n",
            "1/1 [==============================] - 0s 30ms/step\n",
            "1/1 [==============================] - 0s 22ms/step\n",
            "1/1 [==============================] - 0s 41ms/step\n"
          ]
        },
        {
          "metadata": {
            "tags": null
          },
          "name": "stderr",
          "output_type": "stream",
          "text": [
            "WARNING:imageio:Lossy conversion from float64 to uint8. Range [3.6347206494591333e-09, 252.6175582408905]. Convert image to uint8 prior to saving to suppress this warning.\n",
            "WARNING:imageio:Lossy conversion from float64 to uint8. Range [0.0, 255.0]. Convert image to uint8 prior to saving to suppress this warning.\n"
          ]
        },
        {
          "metadata": {
            "tags": null
          },
          "name": "stdout",
          "output_type": "stream",
          "text": [
            "1/1 [==============================] - 0s 20ms/step\n",
            "1/1 [==============================] - 0s 28ms/step\n",
            "1/1 [==============================] - 0s 30ms/step\n",
            "1/1 [==============================] - 0s 22ms/step\n",
            "1/1 [==============================] - 0s 20ms/step\n",
            "1/1 [==============================] - 0s 23ms/step\n",
            "1/1 [==============================] - 0s 36ms/step\n",
            "1/1 [==============================] - 0s 35ms/step\n",
            "1/1 [==============================] - 0s 20ms/step\n",
            "1/1 [==============================] - 0s 31ms/step\n",
            "1/1 [==============================] - 0s 23ms/step\n",
            "1/1 [==============================] - 0s 25ms/step\n",
            "1/1 [==============================] - 0s 24ms/step\n",
            "1/1 [==============================] - 0s 29ms/step\n",
            "1/1 [==============================] - 0s 29ms/step\n",
            "1/1 [==============================] - 0s 29ms/step\n",
            "1/1 [==============================] - 0s 35ms/step\n",
            "1/1 [==============================] - 0s 29ms/step\n",
            "1/1 [==============================] - 0s 22ms/step\n",
            "1/1 [==============================] - 0s 31ms/step\n",
            "1/1 [==============================] - 0s 23ms/step\n",
            "1/1 [==============================] - 0s 24ms/step\n",
            "1/1 [==============================] - 0s 29ms/step\n",
            "1/1 [==============================] - 0s 19ms/step\n",
            "1/1 [==============================] - 0s 26ms/step\n",
            "1/1 [==============================] - 0s 22ms/step\n",
            "1/1 [==============================] - 0s 23ms/step\n",
            "1/1 [==============================] - 0s 22ms/step\n",
            "1/1 [==============================] - 0s 34ms/step\n",
            "1/1 [==============================] - 0s 27ms/step\n",
            "1/1 [==============================] - 0s 32ms/step\n",
            "1/1 [==============================] - 0s 27ms/step\n",
            "1/1 [==============================] - 0s 35ms/step\n",
            "1/1 [==============================] - 0s 24ms/step\n",
            "1/1 [==============================] - 0s 20ms/step\n",
            "1/1 [==============================] - 0s 30ms/step\n",
            "1/1 [==============================] - 0s 69ms/step\n",
            "1/1 [==============================] - 0s 31ms/step\n",
            "1/1 [==============================] - 0s 54ms/step\n",
            "1/1 [==============================] - 0s 59ms/step\n",
            "1/1 [==============================] - 0s 38ms/step\n",
            "1/1 [==============================] - 0s 30ms/step\n",
            "1/1 [==============================] - 0s 27ms/step\n",
            "1/1 [==============================] - 0s 22ms/step\n",
            "1/1 [==============================] - 0s 29ms/step\n",
            "1/1 [==============================] - 0s 20ms/step\n",
            "1/1 [==============================] - 0s 21ms/step\n",
            "1/1 [==============================] - 0s 20ms/step\n",
            "1/1 [==============================] - 0s 21ms/step\n",
            "1/1 [==============================] - 0s 29ms/step\n",
            "1/1 [==============================] - 0s 23ms/step\n",
            "1/1 [==============================] - 0s 30ms/step\n",
            "1/1 [==============================] - 0s 26ms/step\n",
            "1/1 [==============================] - 0s 56ms/step\n",
            "1/1 [==============================] - 0s 30ms/step\n",
            "1/1 [==============================] - 0s 25ms/step\n",
            "1/1 [==============================] - 0s 20ms/step\n",
            "1/1 [==============================] - 0s 28ms/step\n",
            "1/1 [==============================] - 0s 34ms/step\n",
            "1/1 [==============================] - 0s 36ms/step\n",
            "1/1 [==============================] - 0s 26ms/step\n",
            "1/1 [==============================] - 0s 19ms/step\n",
            "1/1 [==============================] - 0s 19ms/step\n",
            "1/1 [==============================] - 0s 20ms/step\n"
          ]
        },
        {
          "metadata": {
            "tags": null
          },
          "name": "stderr",
          "output_type": "stream",
          "text": [
            "WARNING:imageio:Lossy conversion from float64 to uint8. Range [2.135544137360501e-09, 251.08624041080475]. Convert image to uint8 prior to saving to suppress this warning.\n",
            "WARNING:imageio:Lossy conversion from float64 to uint8. Range [0.0, 255.0]. Convert image to uint8 prior to saving to suppress this warning.\n"
          ]
        },
        {
          "metadata": {
            "tags": null
          },
          "name": "stdout",
          "output_type": "stream",
          "text": [
            "1/1 [==============================] - 0s 39ms/step\n",
            "1/1 [==============================] - 0s 72ms/step\n",
            "1/1 [==============================] - 0s 56ms/step\n",
            "1/1 [==============================] - 0s 21ms/step\n",
            "1/1 [==============================] - 0s 25ms/step\n",
            "1/1 [==============================] - 0s 25ms/step\n",
            "1/1 [==============================] - 0s 20ms/step\n",
            "1/1 [==============================] - 0s 27ms/step\n",
            "1/1 [==============================] - 0s 19ms/step\n",
            "1/1 [==============================] - 0s 19ms/step\n",
            "1/1 [==============================] - 0s 19ms/step\n",
            "1/1 [==============================] - 0s 22ms/step\n",
            "1/1 [==============================] - 0s 19ms/step\n",
            "1/1 [==============================] - 0s 19ms/step\n",
            "1/1 [==============================] - 0s 20ms/step\n",
            "1/1 [==============================] - 0s 19ms/step\n",
            "1/1 [==============================] - 0s 19ms/step\n",
            "1/1 [==============================] - 0s 17ms/step\n",
            "1/1 [==============================] - 0s 18ms/step\n",
            "1/1 [==============================] - 0s 17ms/step\n",
            "1/1 [==============================] - 0s 18ms/step\n",
            "1/1 [==============================] - 0s 22ms/step\n",
            "1/1 [==============================] - 0s 18ms/step\n",
            "1/1 [==============================] - 0s 18ms/step\n",
            "1/1 [==============================] - 0s 18ms/step\n",
            "1/1 [==============================] - 0s 19ms/step\n",
            "1/1 [==============================] - 0s 17ms/step\n",
            "1/1 [==============================] - 0s 19ms/step\n",
            "1/1 [==============================] - 0s 18ms/step\n",
            "1/1 [==============================] - 0s 20ms/step\n",
            "1/1 [==============================] - 0s 18ms/step\n",
            "1/1 [==============================] - 0s 18ms/step\n",
            "1/1 [==============================] - 0s 19ms/step\n",
            "1/1 [==============================] - 0s 19ms/step\n",
            "1/1 [==============================] - 0s 20ms/step\n",
            "1/1 [==============================] - 0s 18ms/step\n",
            "1/1 [==============================] - 0s 18ms/step\n",
            "1/1 [==============================] - 0s 20ms/step\n",
            "1/1 [==============================] - 0s 17ms/step\n",
            "1/1 [==============================] - 0s 19ms/step\n",
            "1/1 [==============================] - 0s 18ms/step\n",
            "1/1 [==============================] - 0s 22ms/step\n",
            "1/1 [==============================] - 0s 18ms/step\n",
            "1/1 [==============================] - 0s 18ms/step\n",
            "1/1 [==============================] - 0s 17ms/step\n",
            "1/1 [==============================] - 0s 22ms/step\n",
            "1/1 [==============================] - 0s 19ms/step\n",
            "1/1 [==============================] - 0s 19ms/step\n",
            "1/1 [==============================] - 0s 19ms/step\n",
            "1/1 [==============================] - 0s 20ms/step\n",
            "1/1 [==============================] - 0s 19ms/step\n",
            "1/1 [==============================] - 0s 21ms/step\n",
            "1/1 [==============================] - 0s 19ms/step\n",
            "1/1 [==============================] - 0s 18ms/step\n",
            "1/1 [==============================] - 0s 18ms/step\n",
            "1/1 [==============================] - 0s 19ms/step\n",
            "1/1 [==============================] - 0s 21ms/step\n",
            "1/1 [==============================] - 0s 21ms/step\n",
            "1/1 [==============================] - 0s 23ms/step\n",
            "1/1 [==============================] - 0s 23ms/step\n",
            "1/1 [==============================] - 0s 18ms/step\n",
            "1/1 [==============================] - 0s 19ms/step\n",
            "1/1 [==============================] - 0s 18ms/step\n",
            "1/1 [==============================] - 0s 19ms/step\n"
          ]
        },
        {
          "metadata": {
            "tags": null
          },
          "name": "stderr",
          "output_type": "stream",
          "text": [
            "WARNING:imageio:Lossy conversion from float64 to uint8. Range [4.616653827675815e-16, 252.95554250478745]. Convert image to uint8 prior to saving to suppress this warning.\n",
            "WARNING:imageio:Lossy conversion from float64 to uint8. Range [0.0, 255.0]. Convert image to uint8 prior to saving to suppress this warning.\n"
          ]
        },
        {
          "metadata": {
            "tags": null
          },
          "name": "stdout",
          "output_type": "stream",
          "text": [
            "1/1 [==============================] - 0s 18ms/step\n",
            "1/1 [==============================] - 0s 24ms/step\n",
            "1/1 [==============================] - 0s 20ms/step\n",
            "1/1 [==============================] - 0s 19ms/step\n",
            "1/1 [==============================] - 0s 22ms/step\n",
            "1/1 [==============================] - 0s 19ms/step\n",
            "1/1 [==============================] - 0s 19ms/step\n",
            "1/1 [==============================] - 0s 20ms/step\n",
            "1/1 [==============================] - 0s 18ms/step\n",
            "1/1 [==============================] - 0s 20ms/step\n",
            "1/1 [==============================] - 0s 20ms/step\n",
            "1/1 [==============================] - 0s 19ms/step\n",
            "1/1 [==============================] - 0s 19ms/step\n",
            "1/1 [==============================] - 0s 21ms/step\n",
            "1/1 [==============================] - 0s 18ms/step\n",
            "1/1 [==============================] - 0s 18ms/step\n",
            "1/1 [==============================] - 0s 18ms/step\n",
            "1/1 [==============================] - 0s 18ms/step\n",
            "1/1 [==============================] - 0s 19ms/step\n",
            "1/1 [==============================] - 0s 20ms/step\n",
            "1/1 [==============================] - 0s 27ms/step\n",
            "1/1 [==============================] - 0s 23ms/step\n",
            "1/1 [==============================] - 0s 22ms/step\n",
            "1/1 [==============================] - 0s 23ms/step\n",
            "1/1 [==============================] - 0s 23ms/step\n",
            "1/1 [==============================] - 0s 23ms/step\n",
            "1/1 [==============================] - 0s 22ms/step\n",
            "1/1 [==============================] - 0s 22ms/step\n",
            "1/1 [==============================] - 0s 21ms/step\n",
            "1/1 [==============================] - 0s 22ms/step\n",
            "1/1 [==============================] - 0s 22ms/step\n",
            "1/1 [==============================] - 0s 23ms/step\n",
            "1/1 [==============================] - 0s 22ms/step\n",
            "1/1 [==============================] - 0s 23ms/step\n",
            "1/1 [==============================] - 0s 22ms/step\n",
            "1/1 [==============================] - 0s 23ms/step\n",
            "1/1 [==============================] - 0s 21ms/step\n",
            "1/1 [==============================] - 0s 21ms/step\n",
            "1/1 [==============================] - 0s 23ms/step\n",
            "1/1 [==============================] - 0s 21ms/step\n",
            "1/1 [==============================] - 0s 22ms/step\n",
            "1/1 [==============================] - 0s 22ms/step\n",
            "1/1 [==============================] - 0s 22ms/step\n",
            "1/1 [==============================] - 0s 21ms/step\n",
            "1/1 [==============================] - 0s 22ms/step\n",
            "1/1 [==============================] - 0s 21ms/step\n",
            "1/1 [==============================] - 0s 22ms/step\n",
            "1/1 [==============================] - 0s 23ms/step\n",
            "1/1 [==============================] - 0s 23ms/step\n",
            "1/1 [==============================] - 0s 23ms/step\n",
            "1/1 [==============================] - 0s 22ms/step\n",
            "1/1 [==============================] - 0s 21ms/step\n",
            "1/1 [==============================] - 0s 22ms/step\n",
            "1/1 [==============================] - 0s 22ms/step\n",
            "1/1 [==============================] - 0s 22ms/step\n",
            "1/1 [==============================] - 0s 22ms/step\n",
            "1/1 [==============================] - 0s 22ms/step\n",
            "1/1 [==============================] - 0s 21ms/step\n",
            "1/1 [==============================] - 0s 21ms/step\n",
            "1/1 [==============================] - 0s 21ms/step\n",
            "1/1 [==============================] - 0s 21ms/step\n",
            "1/1 [==============================] - 0s 21ms/step\n",
            "1/1 [==============================] - 0s 23ms/step\n",
            "1/1 [==============================] - 0s 23ms/step\n"
          ]
        },
        {
          "metadata": {
            "tags": null
          },
          "name": "stderr",
          "output_type": "stream",
          "text": [
            "WARNING:imageio:Lossy conversion from float64 to uint8. Range [8.780911941167662e-12, 252.1869957447052]. Convert image to uint8 prior to saving to suppress this warning.\n",
            "WARNING:imageio:Lossy conversion from float64 to uint8. Range [0.0, 255.0]. Convert image to uint8 prior to saving to suppress this warning.\n"
          ]
        },
        {
          "metadata": {
            "tags": null
          },
          "name": "stdout",
          "output_type": "stream",
          "text": [
            "1/1 [==============================] - 0s 22ms/step\n",
            "1/1 [==============================] - 0s 24ms/step\n",
            "1/1 [==============================] - 0s 22ms/step\n",
            "1/1 [==============================] - 0s 22ms/step\n",
            "1/1 [==============================] - 0s 22ms/step\n",
            "1/1 [==============================] - 0s 22ms/step\n",
            "1/1 [==============================] - 0s 21ms/step\n",
            "1/1 [==============================] - 0s 22ms/step\n",
            "1/1 [==============================] - 0s 22ms/step\n",
            "1/1 [==============================] - 0s 24ms/step\n",
            "1/1 [==============================] - 0s 24ms/step\n",
            "1/1 [==============================] - 0s 23ms/step\n",
            "1/1 [==============================] - 0s 21ms/step\n",
            "1/1 [==============================] - 0s 22ms/step\n",
            "1/1 [==============================] - 0s 21ms/step\n",
            "1/1 [==============================] - 0s 22ms/step\n",
            "1/1 [==============================] - 0s 22ms/step\n",
            "1/1 [==============================] - 0s 22ms/step\n",
            "1/1 [==============================] - 0s 21ms/step\n",
            "1/1 [==============================] - 0s 22ms/step\n",
            "1/1 [==============================] - 0s 21ms/step\n",
            "1/1 [==============================] - 0s 25ms/step\n",
            "1/1 [==============================] - 0s 22ms/step\n",
            "1/1 [==============================] - 0s 20ms/step\n",
            "1/1 [==============================] - 0s 20ms/step\n",
            "1/1 [==============================] - 0s 19ms/step\n",
            "1/1 [==============================] - 0s 19ms/step\n",
            "1/1 [==============================] - 0s 20ms/step\n",
            "1/1 [==============================] - 0s 20ms/step\n",
            "1/1 [==============================] - 0s 20ms/step\n",
            "1/1 [==============================] - 0s 20ms/step\n",
            "1/1 [==============================] - 0s 19ms/step\n",
            "1/1 [==============================] - 0s 19ms/step\n",
            "1/1 [==============================] - 0s 20ms/step\n",
            "1/1 [==============================] - 0s 20ms/step\n",
            "1/1 [==============================] - 0s 21ms/step\n",
            "1/1 [==============================] - 0s 21ms/step\n",
            "1/1 [==============================] - 0s 21ms/step\n",
            "1/1 [==============================] - 0s 19ms/step\n",
            "1/1 [==============================] - 0s 18ms/step\n",
            "1/1 [==============================] - 0s 19ms/step\n",
            "1/1 [==============================] - 0s 18ms/step\n",
            "1/1 [==============================] - 0s 19ms/step\n",
            "1/1 [==============================] - 0s 19ms/step\n",
            "1/1 [==============================] - 0s 19ms/step\n",
            "1/1 [==============================] - 0s 20ms/step\n",
            "1/1 [==============================] - 0s 19ms/step\n",
            "1/1 [==============================] - 0s 19ms/step\n",
            "1/1 [==============================] - 0s 19ms/step\n",
            "1/1 [==============================] - 0s 18ms/step\n",
            "1/1 [==============================] - 0s 19ms/step\n",
            "1/1 [==============================] - 0s 18ms/step\n",
            "1/1 [==============================] - 0s 20ms/step\n",
            "1/1 [==============================] - 0s 19ms/step\n",
            "1/1 [==============================] - 0s 20ms/step\n",
            "1/1 [==============================] - 0s 19ms/step\n",
            "1/1 [==============================] - 0s 19ms/step\n",
            "1/1 [==============================] - 0s 18ms/step\n",
            "1/1 [==============================] - 0s 18ms/step\n",
            "1/1 [==============================] - 0s 19ms/step\n",
            "1/1 [==============================] - 0s 18ms/step\n",
            "1/1 [==============================] - 0s 19ms/step\n",
            "1/1 [==============================] - 0s 18ms/step\n",
            "1/1 [==============================] - 0s 19ms/step\n"
          ]
        },
        {
          "metadata": {
            "tags": null
          },
          "name": "stderr",
          "output_type": "stream",
          "text": [
            "WARNING:imageio:Lossy conversion from float64 to uint8. Range [8.387278654394372e-12, 251.2300854921341]. Convert image to uint8 prior to saving to suppress this warning.\n",
            "WARNING:imageio:Lossy conversion from float64 to uint8. Range [0.0, 255.0]. Convert image to uint8 prior to saving to suppress this warning.\n"
          ]
        },
        {
          "metadata": {
            "tags": null
          },
          "name": "stdout",
          "output_type": "stream",
          "text": [
            "1/1 [==============================] - 0s 20ms/step\n",
            "1/1 [==============================] - 0s 18ms/step\n",
            "1/1 [==============================] - 0s 19ms/step\n",
            "1/1 [==============================] - 0s 18ms/step\n",
            "1/1 [==============================] - 0s 18ms/step\n",
            "1/1 [==============================] - 0s 20ms/step\n",
            "1/1 [==============================] - 0s 19ms/step\n",
            "1/1 [==============================] - 0s 18ms/step\n",
            "1/1 [==============================] - 0s 19ms/step\n",
            "1/1 [==============================] - 0s 20ms/step\n",
            "1/1 [==============================] - 0s 19ms/step\n",
            "1/1 [==============================] - 0s 18ms/step\n",
            "1/1 [==============================] - 0s 26ms/step\n",
            "1/1 [==============================] - 0s 20ms/step\n",
            "1/1 [==============================] - 0s 20ms/step\n",
            "1/1 [==============================] - 0s 19ms/step\n",
            "1/1 [==============================] - 0s 19ms/step\n",
            "1/1 [==============================] - 0s 19ms/step\n",
            "1/1 [==============================] - 0s 19ms/step\n",
            "1/1 [==============================] - 0s 19ms/step\n",
            "1/1 [==============================] - 0s 18ms/step\n",
            "1/1 [==============================] - 0s 19ms/step\n",
            "1/1 [==============================] - 0s 19ms/step\n",
            "1/1 [==============================] - 0s 21ms/step\n",
            "1/1 [==============================] - 0s 19ms/step\n",
            "1/1 [==============================] - 0s 20ms/step\n",
            "1/1 [==============================] - 0s 19ms/step\n",
            "1/1 [==============================] - 0s 19ms/step\n",
            "1/1 [==============================] - 0s 18ms/step\n",
            "1/1 [==============================] - 0s 19ms/step\n",
            "1/1 [==============================] - 0s 18ms/step\n",
            "1/1 [==============================] - 0s 19ms/step\n",
            "1/1 [==============================] - 0s 19ms/step\n",
            "1/1 [==============================] - 0s 18ms/step\n",
            "1/1 [==============================] - 0s 19ms/step\n",
            "1/1 [==============================] - 0s 19ms/step\n",
            "1/1 [==============================] - 0s 19ms/step\n",
            "1/1 [==============================] - 0s 18ms/step\n",
            "1/1 [==============================] - 0s 18ms/step\n",
            "1/1 [==============================] - 0s 18ms/step\n",
            "1/1 [==============================] - 0s 18ms/step\n",
            "1/1 [==============================] - 0s 18ms/step\n",
            "1/1 [==============================] - 0s 19ms/step\n",
            "1/1 [==============================] - 0s 19ms/step\n",
            "1/1 [==============================] - 0s 19ms/step\n",
            "1/1 [==============================] - 0s 19ms/step\n",
            "1/1 [==============================] - 0s 19ms/step\n",
            "1/1 [==============================] - 0s 18ms/step\n",
            "1/1 [==============================] - 0s 18ms/step\n",
            "1/1 [==============================] - 0s 18ms/step\n",
            "1/1 [==============================] - 0s 19ms/step\n",
            "1/1 [==============================] - 0s 18ms/step\n",
            "1/1 [==============================] - 0s 19ms/step\n",
            "1/1 [==============================] - 0s 19ms/step\n",
            "1/1 [==============================] - 0s 18ms/step\n",
            "1/1 [==============================] - 0s 19ms/step\n",
            "1/1 [==============================] - 0s 19ms/step\n",
            "1/1 [==============================] - 0s 18ms/step\n",
            "1/1 [==============================] - 0s 19ms/step\n",
            "1/1 [==============================] - 0s 18ms/step\n",
            "1/1 [==============================] - 0s 22ms/step\n",
            "1/1 [==============================] - 0s 20ms/step\n",
            "1/1 [==============================] - 0s 24ms/step\n",
            "1/1 [==============================] - 0s 20ms/step\n"
          ]
        },
        {
          "metadata": {
            "tags": null
          },
          "name": "stderr",
          "output_type": "stream",
          "text": [
            "WARNING:imageio:Lossy conversion from float64 to uint8. Range [6.089915004572899e-09, 250.74476033449173]. Convert image to uint8 prior to saving to suppress this warning.\n",
            "WARNING:imageio:Lossy conversion from float64 to uint8. Range [0.0, 255.0]. Convert image to uint8 prior to saving to suppress this warning.\n"
          ]
        },
        {
          "output_type": "stream",
          "name": "stdout",
          "text": [
            "1/1 [==============================] - 0s 18ms/step\n",
            "1/1 [==============================] - 0s 19ms/step\n",
            "1/1 [==============================] - 0s 19ms/step\n",
            "1/1 [==============================] - 0s 19ms/step\n",
            "1/1 [==============================] - 0s 19ms/step\n",
            "1/1 [==============================] - 0s 21ms/step\n",
            "1/1 [==============================] - 0s 19ms/step\n",
            "1/1 [==============================] - 0s 23ms/step\n",
            "1/1 [==============================] - 0s 19ms/step\n",
            "1/1 [==============================] - 0s 21ms/step\n",
            "1/1 [==============================] - 0s 19ms/step\n",
            "1/1 [==============================] - 0s 18ms/step\n",
            "1/1 [==============================] - 0s 19ms/step\n",
            "1/1 [==============================] - 0s 19ms/step\n",
            "1/1 [==============================] - 0s 19ms/step\n",
            "1/1 [==============================] - 0s 19ms/step\n",
            "1/1 [==============================] - 0s 19ms/step\n",
            "1/1 [==============================] - 0s 18ms/step\n",
            "1/1 [==============================] - 0s 18ms/step\n",
            "1/1 [==============================] - 0s 20ms/step\n",
            "1/1 [==============================] - 0s 18ms/step\n",
            "1/1 [==============================] - 0s 19ms/step\n",
            "1/1 [==============================] - 0s 19ms/step\n",
            "1/1 [==============================] - 0s 20ms/step\n",
            "1/1 [==============================] - 0s 19ms/step\n",
            "1/1 [==============================] - 0s 19ms/step\n",
            "1/1 [==============================] - 0s 22ms/step\n",
            "1/1 [==============================] - 0s 22ms/step\n",
            "1/1 [==============================] - 0s 21ms/step\n",
            "1/1 [==============================] - 0s 20ms/step\n",
            "1/1 [==============================] - 0s 25ms/step\n",
            "1/1 [==============================] - 0s 21ms/step\n",
            "1/1 [==============================] - 0s 19ms/step\n",
            "1/1 [==============================] - 0s 23ms/step\n",
            "1/1 [==============================] - 0s 19ms/step\n",
            "1/1 [==============================] - 0s 18ms/step\n",
            "1/1 [==============================] - 0s 20ms/step\n",
            "1/1 [==============================] - 0s 20ms/step\n",
            "1/1 [==============================] - 0s 19ms/step\n",
            "1/1 [==============================] - 0s 18ms/step\n",
            "1/1 [==============================] - 0s 19ms/step\n",
            "1/1 [==============================] - 0s 19ms/step\n",
            "1/1 [==============================] - 0s 21ms/step\n",
            "1/1 [==============================] - 0s 19ms/step\n",
            "1/1 [==============================] - 0s 18ms/step\n",
            "1/1 [==============================] - 0s 19ms/step\n",
            "1/1 [==============================] - 0s 26ms/step\n",
            "1/1 [==============================] - 0s 18ms/step\n",
            "1/1 [==============================] - 0s 20ms/step\n",
            "1/1 [==============================] - 0s 21ms/step\n",
            "1/1 [==============================] - 0s 18ms/step\n",
            "1/1 [==============================] - 0s 19ms/step\n",
            "1/1 [==============================] - 0s 18ms/step\n",
            "1/1 [==============================] - 0s 19ms/step\n",
            "1/1 [==============================] - 0s 18ms/step\n",
            "1/1 [==============================] - 0s 18ms/step\n",
            "1/1 [==============================] - 0s 19ms/step\n",
            "1/1 [==============================] - 0s 20ms/step\n",
            "1/1 [==============================] - 0s 18ms/step\n",
            "1/1 [==============================] - 0s 18ms/step\n",
            "1/1 [==============================] - 0s 20ms/step\n",
            "1/1 [==============================] - 0s 18ms/step\n",
            "1/1 [==============================] - 0s 18ms/step\n",
            "1/1 [==============================] - 0s 18ms/step\n"
          ]
        },
        {
          "output_type": "stream",
          "name": "stderr",
          "text": [
            "WARNING:imageio:Lossy conversion from float64 to uint8. Range [5.734450720466778e-12, 252.01536655426025]. Convert image to uint8 prior to saving to suppress this warning.\n",
            "WARNING:imageio:Lossy conversion from float64 to uint8. Range [0.0, 255.0]. Convert image to uint8 prior to saving to suppress this warning.\n"
          ]
        },
        {
          "output_type": "stream",
          "name": "stdout",
          "text": [
            "1/1 [==============================] - 0s 18ms/step\n",
            "1/1 [==============================] - 0s 18ms/step\n",
            "1/1 [==============================] - 0s 19ms/step\n",
            "1/1 [==============================] - 0s 19ms/step\n",
            "1/1 [==============================] - 0s 19ms/step\n",
            "1/1 [==============================] - 0s 19ms/step\n",
            "1/1 [==============================] - 0s 18ms/step\n",
            "1/1 [==============================] - 0s 19ms/step\n",
            "1/1 [==============================] - 0s 17ms/step\n",
            "1/1 [==============================] - 0s 18ms/step\n",
            "1/1 [==============================] - 0s 18ms/step\n",
            "1/1 [==============================] - 0s 18ms/step\n",
            "1/1 [==============================] - 0s 18ms/step\n",
            "1/1 [==============================] - 0s 18ms/step\n",
            "1/1 [==============================] - 0s 20ms/step\n",
            "1/1 [==============================] - 0s 19ms/step\n",
            "1/1 [==============================] - 0s 18ms/step\n",
            "1/1 [==============================] - 0s 19ms/step\n",
            "1/1 [==============================] - 0s 19ms/step\n",
            "1/1 [==============================] - 0s 18ms/step\n",
            "1/1 [==============================] - 0s 19ms/step\n",
            "1/1 [==============================] - 0s 19ms/step\n",
            "1/1 [==============================] - 0s 18ms/step\n",
            "1/1 [==============================] - 0s 18ms/step\n",
            "1/1 [==============================] - 0s 19ms/step\n",
            "1/1 [==============================] - 0s 19ms/step\n",
            "1/1 [==============================] - 0s 18ms/step\n",
            "1/1 [==============================] - 0s 19ms/step\n",
            "1/1 [==============================] - 0s 19ms/step\n",
            "1/1 [==============================] - 0s 19ms/step\n",
            "1/1 [==============================] - 0s 19ms/step\n",
            "1/1 [==============================] - 0s 20ms/step\n",
            "1/1 [==============================] - 0s 19ms/step\n",
            "1/1 [==============================] - 0s 19ms/step\n",
            "1/1 [==============================] - 0s 18ms/step\n",
            "1/1 [==============================] - 0s 20ms/step\n",
            "1/1 [==============================] - 0s 19ms/step\n",
            "1/1 [==============================] - 0s 18ms/step\n",
            "1/1 [==============================] - 0s 18ms/step\n",
            "1/1 [==============================] - 0s 17ms/step\n",
            "1/1 [==============================] - 0s 19ms/step\n",
            "1/1 [==============================] - 0s 19ms/step\n",
            "1/1 [==============================] - 0s 18ms/step\n",
            "1/1 [==============================] - 0s 18ms/step\n",
            "1/1 [==============================] - 0s 19ms/step\n",
            "1/1 [==============================] - 0s 19ms/step\n",
            "1/1 [==============================] - 0s 20ms/step\n",
            "1/1 [==============================] - 0s 19ms/step\n",
            "1/1 [==============================] - 0s 19ms/step\n",
            "1/1 [==============================] - 0s 19ms/step\n",
            "1/1 [==============================] - 0s 19ms/step\n",
            "1/1 [==============================] - 0s 19ms/step\n",
            "1/1 [==============================] - 0s 18ms/step\n",
            "1/1 [==============================] - 0s 19ms/step\n",
            "1/1 [==============================] - 0s 18ms/step\n",
            "1/1 [==============================] - 0s 18ms/step\n",
            "1/1 [==============================] - 0s 19ms/step\n",
            "1/1 [==============================] - 0s 18ms/step\n",
            "1/1 [==============================] - 0s 19ms/step\n",
            "1/1 [==============================] - 0s 19ms/step\n",
            "1/1 [==============================] - 0s 19ms/step\n",
            "1/1 [==============================] - 0s 18ms/step\n",
            "1/1 [==============================] - 0s 19ms/step\n",
            "1/1 [==============================] - 0s 18ms/step\n"
          ]
        },
        {
          "output_type": "stream",
          "name": "stderr",
          "text": [
            "WARNING:imageio:Lossy conversion from float64 to uint8. Range [1.0732452239751132e-10, 251.80064767599106]. Convert image to uint8 prior to saving to suppress this warning.\n",
            "WARNING:imageio:Lossy conversion from float64 to uint8. Range [0.0, 255.0]. Convert image to uint8 prior to saving to suppress this warning.\n"
          ]
        },
        {
          "output_type": "stream",
          "name": "stdout",
          "text": [
            "1/1 [==============================] - 0s 19ms/step\n",
            "1/1 [==============================] - 0s 18ms/step\n",
            "1/1 [==============================] - 0s 18ms/step\n",
            "1/1 [==============================] - 0s 20ms/step\n",
            "1/1 [==============================] - 0s 18ms/step\n",
            "1/1 [==============================] - 0s 18ms/step\n",
            "1/1 [==============================] - 0s 20ms/step\n",
            "1/1 [==============================] - 0s 19ms/step\n",
            "1/1 [==============================] - 0s 17ms/step\n",
            "1/1 [==============================] - 0s 18ms/step\n",
            "1/1 [==============================] - 0s 19ms/step\n",
            "1/1 [==============================] - 0s 20ms/step\n",
            "1/1 [==============================] - 0s 19ms/step\n",
            "1/1 [==============================] - 0s 19ms/step\n",
            "1/1 [==============================] - 0s 18ms/step\n",
            "1/1 [==============================] - 0s 18ms/step\n",
            "1/1 [==============================] - 0s 19ms/step\n",
            "1/1 [==============================] - 0s 17ms/step\n",
            "1/1 [==============================] - 0s 18ms/step\n",
            "1/1 [==============================] - 0s 17ms/step\n",
            "1/1 [==============================] - 0s 18ms/step\n",
            "1/1 [==============================] - 0s 18ms/step\n",
            "1/1 [==============================] - 0s 19ms/step\n",
            "1/1 [==============================] - 0s 21ms/step\n",
            "1/1 [==============================] - 0s 18ms/step\n",
            "1/1 [==============================] - 0s 17ms/step\n",
            "1/1 [==============================] - 0s 17ms/step\n",
            "1/1 [==============================] - 0s 18ms/step\n",
            "1/1 [==============================] - 0s 18ms/step\n",
            "1/1 [==============================] - 0s 18ms/step\n",
            "1/1 [==============================] - 0s 18ms/step\n",
            "1/1 [==============================] - 0s 18ms/step\n",
            "1/1 [==============================] - 0s 19ms/step\n",
            "1/1 [==============================] - 0s 19ms/step\n",
            "1/1 [==============================] - 0s 19ms/step\n",
            "1/1 [==============================] - 0s 18ms/step\n",
            "1/1 [==============================] - 0s 18ms/step\n",
            "1/1 [==============================] - 0s 18ms/step\n",
            "1/1 [==============================] - 0s 17ms/step\n",
            "1/1 [==============================] - 0s 19ms/step\n",
            "1/1 [==============================] - 0s 18ms/step\n",
            "1/1 [==============================] - 0s 19ms/step\n",
            "1/1 [==============================] - 0s 19ms/step\n",
            "1/1 [==============================] - 0s 17ms/step\n",
            "1/1 [==============================] - 0s 18ms/step\n",
            "1/1 [==============================] - 0s 17ms/step\n",
            "1/1 [==============================] - 0s 18ms/step\n",
            "1/1 [==============================] - 0s 21ms/step\n",
            "1/1 [==============================] - 0s 19ms/step\n",
            "1/1 [==============================] - 0s 19ms/step\n",
            "1/1 [==============================] - 0s 19ms/step\n",
            "1/1 [==============================] - 0s 18ms/step\n",
            "1/1 [==============================] - 0s 20ms/step\n",
            "1/1 [==============================] - 0s 18ms/step\n",
            "1/1 [==============================] - 0s 18ms/step\n",
            "1/1 [==============================] - 0s 17ms/step\n",
            "1/1 [==============================] - 0s 18ms/step\n",
            "1/1 [==============================] - 0s 18ms/step\n",
            "1/1 [==============================] - 0s 19ms/step\n",
            "1/1 [==============================] - 0s 22ms/step\n",
            "1/1 [==============================] - 0s 19ms/step\n",
            "1/1 [==============================] - 0s 19ms/step\n",
            "1/1 [==============================] - 0s 19ms/step\n",
            "1/1 [==============================] - 0s 18ms/step\n"
          ]
        },
        {
          "output_type": "stream",
          "name": "stderr",
          "text": [
            "WARNING:imageio:Lossy conversion from float64 to uint8. Range [2.8416655909867944e-10, 247.69314408302307]. Convert image to uint8 prior to saving to suppress this warning.\n",
            "WARNING:imageio:Lossy conversion from float64 to uint8. Range [0.0, 255.0]. Convert image to uint8 prior to saving to suppress this warning.\n"
          ]
        },
        {
          "output_type": "stream",
          "name": "stdout",
          "text": [
            "1/1 [==============================] - 0s 19ms/step\n",
            "1/1 [==============================] - 0s 19ms/step\n",
            "1/1 [==============================] - 0s 19ms/step\n",
            "1/1 [==============================] - 0s 18ms/step\n",
            "1/1 [==============================] - 0s 18ms/step\n",
            "1/1 [==============================] - 0s 18ms/step\n",
            "1/1 [==============================] - 0s 20ms/step\n",
            "1/1 [==============================] - 0s 18ms/step\n",
            "1/1 [==============================] - 0s 18ms/step\n",
            "1/1 [==============================] - 0s 18ms/step\n",
            "1/1 [==============================] - 0s 19ms/step\n",
            "1/1 [==============================] - 0s 18ms/step\n",
            "1/1 [==============================] - 0s 22ms/step\n",
            "1/1 [==============================] - 0s 19ms/step\n",
            "1/1 [==============================] - 0s 18ms/step\n",
            "1/1 [==============================] - 0s 19ms/step\n",
            "1/1 [==============================] - 0s 21ms/step\n",
            "1/1 [==============================] - 0s 21ms/step\n",
            "1/1 [==============================] - 0s 20ms/step\n",
            "1/1 [==============================] - 0s 21ms/step\n",
            "1/1 [==============================] - 0s 18ms/step\n",
            "1/1 [==============================] - 0s 19ms/step\n",
            "1/1 [==============================] - 0s 22ms/step\n",
            "1/1 [==============================] - 0s 17ms/step\n",
            "1/1 [==============================] - 0s 21ms/step\n",
            "1/1 [==============================] - 0s 18ms/step\n",
            "1/1 [==============================] - 0s 19ms/step\n",
            "1/1 [==============================] - 0s 18ms/step\n",
            "1/1 [==============================] - 0s 18ms/step\n",
            "1/1 [==============================] - 0s 20ms/step\n",
            "1/1 [==============================] - 0s 20ms/step\n",
            "1/1 [==============================] - 0s 17ms/step\n",
            "1/1 [==============================] - 0s 18ms/step\n",
            "1/1 [==============================] - 0s 18ms/step\n",
            "1/1 [==============================] - 0s 19ms/step\n",
            "1/1 [==============================] - 0s 19ms/step\n",
            "1/1 [==============================] - 0s 18ms/step\n",
            "1/1 [==============================] - 0s 19ms/step\n",
            "1/1 [==============================] - 0s 20ms/step\n",
            "1/1 [==============================] - 0s 19ms/step\n",
            "1/1 [==============================] - 0s 18ms/step\n",
            "1/1 [==============================] - 0s 18ms/step\n",
            "1/1 [==============================] - 0s 18ms/step\n",
            "1/1 [==============================] - 0s 18ms/step\n",
            "1/1 [==============================] - 0s 18ms/step\n",
            "1/1 [==============================] - 0s 18ms/step\n",
            "1/1 [==============================] - 0s 19ms/step\n",
            "1/1 [==============================] - 0s 20ms/step\n",
            "1/1 [==============================] - 0s 28ms/step\n",
            "1/1 [==============================] - 0s 18ms/step\n",
            "1/1 [==============================] - 0s 17ms/step\n",
            "1/1 [==============================] - 0s 19ms/step\n",
            "1/1 [==============================] - 0s 20ms/step\n",
            "1/1 [==============================] - 0s 18ms/step\n",
            "1/1 [==============================] - 0s 21ms/step\n",
            "1/1 [==============================] - 0s 18ms/step\n",
            "1/1 [==============================] - 0s 19ms/step\n",
            "1/1 [==============================] - 0s 19ms/step\n",
            "1/1 [==============================] - 0s 18ms/step\n",
            "1/1 [==============================] - 0s 18ms/step\n",
            "1/1 [==============================] - 0s 20ms/step\n",
            "1/1 [==============================] - 0s 19ms/step\n",
            "1/1 [==============================] - 0s 18ms/step\n",
            "1/1 [==============================] - 0s 17ms/step\n"
          ]
        },
        {
          "output_type": "stream",
          "name": "stderr",
          "text": [
            "WARNING:imageio:Lossy conversion from float64 to uint8. Range [8.879632641158042e-10, 252.1788489818573]. Convert image to uint8 prior to saving to suppress this warning.\n"
          ]
        }
      ],
      "source": [
        "if not os.path.exists('samples'):\n",
        "    os.mkdir('samples')\n",
        "\n",
        "for i in range(10):\n",
        "    cluster_sample(u'samples/聚类类别_%s.png' % i, i)\n",
        "    random_sample(u'samples/类别采样_%s.png' % i, i)"
      ]
    },
    {
      "cell_type": "code",
      "execution_count": 23,
      "metadata": {
        "colab": {
          "base_uri": "https://localhost:8080/"
        },
        "id": "yZljLFz3EA46",
        "outputId": "f7ffff90-6b1a-44f9-f81d-12939c4022d4"
      },
      "outputs": [
        {
          "output_type": "stream",
          "name": "stdout",
          "text": [
            "train acc: 0.82145\n",
            "test acc: 0.826\n"
          ]
        }
      ],
      "source": [
        "right = 0.\n",
        "for i in range(10):\n",
        "    _ = np.bincount(y_train[y_train_pred == i])\n",
        "    right += _.max()\n",
        "\n",
        "print (f'train acc: {right / len(y_train)}')\n",
        "\n",
        "\n",
        "right = 0.\n",
        "for i in range(10):\n",
        "    _ = np.bincount(y_test[y_test_pred == i])\n",
        "    right += _.max()\n",
        "\n",
        "print (f'test acc: {right / len(y_test)}')"
      ]
    },
    {
      "cell_type": "code",
      "execution_count": 24,
      "metadata": {
        "colab": {
          "base_uri": "https://localhost:8080/"
        },
        "id": "V5MR54BBSIsu",
        "outputId": "b6de4353-86a8-427d-9b7c-06353740a8b4"
      },
      "outputs": [
        {
          "output_type": "stream",
          "name": "stdout",
          "text": [
            "ARI for Training Set: 0.7236275081063741\n",
            "ARI for Test Set: 0.7290005725815758\n",
            "Mutual Information for Training Set: 1.789659676725229\n",
            "Mutual Information for Test Set: 1.8086115906970541\n",
            "Fowlkes-Mallows Index for Training Set: 0.7514888110118524\n",
            "Fowlkes-Mallows Index for Test Set: 0.7563482857963457\n"
          ]
        }
      ],
      "source": [
        "from sklearn.metrics import adjusted_rand_score, mutual_info_score\n",
        "from sklearn.metrics import fowlkes_mallows_score\n",
        "# Calculate ARI\n",
        "ari_train = adjusted_rand_score(y_train, y_train_pred)\n",
        "ari_test = adjusted_rand_score(y_test, y_test_pred)\n",
        "# Calculate Mutual Information\n",
        "mi_train = mutual_info_score(y_train, y_train_pred)\n",
        "mi_test = mutual_info_score(y_test, y_test_pred)\n",
        "# Fowlkes-Mallows Index (FMI)\n",
        "score_train = fowlkes_mallows_score(y_train, y_train_pred)\n",
        "score_test = fowlkes_mallows_score(y_test, y_test_pred)\n",
        "\n",
        "print(\"ARI for Training Set:\", ari_train)\n",
        "print(\"ARI for Test Set:\", ari_test)\n",
        "print(\"Mutual Information for Training Set:\", mi_train)\n",
        "print(\"Mutual Information for Test Set:\", mi_test)\n",
        "print(\"Fowlkes-Mallows Index for Training Set:\", score_train)\n",
        "print(\"Fowlkes-Mallows Index for Test Set:\", score_test)"
      ]
    },
    {
      "cell_type": "code",
      "execution_count": 25,
      "metadata": {
        "colab": {
          "base_uri": "https://localhost:8080/",
          "height": 445
        },
        "id": "uxNvNMtQO3Td",
        "outputId": "c1463356-8a6d-4352-80b9-2c5f0d4057b0"
      },
      "outputs": [
        {
          "output_type": "display_data",
          "data": {
            "text/plain": [
              "<Figure size 600x500 with 1 Axes>"
            ],
            "image/png": "[encoded data removed]"
          },
          "metadata": {}
        }
      ],
      "source": [
        "import matplotlib.pyplot as plt\n",
        "from sklearn.manifold import TSNE\n",
        "tsne = TSNE(n_components=2, random_state=0)\n",
        "x_test_2d = tsne.fit_transform(x_test_encoded)\n",
        "\n",
        "plt.figure(figsize=(6, 5))\n",
        "colors = \"red\", \"green\", \"blue\", \"cyan\", \"yellow\", \"magenta\", \"black\", \"orange\", \"purple\", \"pink\"\n",
        "for i, c, label in zip(range(num_classes), colors, range(num_classes)):\n",
        "    plt.scatter(x_test_2d[y_test_pred == i, 0], x_test_2d[y_test_pred == i, 1], c=c, label=label)\n",
        "plt.legend()\n",
        "plt.show()"
      ]
    }
  ],
  "metadata": {
    "accelerator": "GPU",
    "colab": {
      "machine_shape": "hm",
      "provenance": []
    },
    "kernelspec": {
      "display_name": "Python 3",
      "name": "python3"
    },
    "language_info": {
      "codemirror_mode": {
        "name": "ipython",
        "version": 3
      },
      "file_extension": ".py",
      "mimetype": "text/x-python",
      "name": "python",
      "nbconvert_exporter": "python",
      "pygments_lexer": "ipython3",
      "version": "3.9.0"
    }
  },
  "nbformat": 4,
  "nbformat_minor": 0
}